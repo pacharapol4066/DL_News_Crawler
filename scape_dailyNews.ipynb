{
 "cells": [
  {
   "cell_type": "markdown",
   "metadata": {},
   "source": [
    "## Scrape URLs"
   ]
  },
  {
   "cell_type": "code",
   "execution_count": 14,
   "metadata": {},
   "outputs": [],
   "source": [
    "from bs4 import BeautifulSoup\n",
    "from urllib.request import urlopen\n",
    "import time\n",
    "from datetime import datetime\n",
    "import pandas as pd\n",
    "import json\n",
    "import pymongo\n",
    "from selenium import webdriver\n",
    "from selenium.webdriver.support.ui import WebDriverWait\n",
    "from selenium.webdriver.support import expected_conditions as EC\n",
    "from selenium.webdriver.common.by import By\n",
    "from selenium.common.exceptions import TimeoutException\n",
    "from IPython.display import clear_output"
   ]
  },
  {
   "cell_type": "code",
   "execution_count": 15,
   "metadata": {},
   "outputs": [],
   "source": [
    "maxLen = 200"
   ]
  },
  {
   "cell_type": "code",
   "execution_count": 16,
   "metadata": {},
   "outputs": [],
   "source": [
    "def create_ListofDict(u,h,d,t):\n",
    "    listofdict = []\n",
    "    for c,lx in enumerate(u,0):\n",
    "        info = {\n",
    "            \"timestamp\": t,\n",
    "            \"URL\":    lx,\n",
    "            \"headline\": h[c],\n",
    "            \"newsdate\":  d[c]\n",
    "        }\n",
    "        listofdict.append(info)\n",
    "    return listofdict"
   ]
  },
  {
   "cell_type": "code",
   "execution_count": 54,
   "metadata": {},
   "outputs": [],
   "source": [
    "def create_ListofDictdf(df):\n",
    "    listofdict = []\n",
    "    for c,lx in enumerate(df.URL,0):\n",
    "        info = {\n",
    "            \"timestamp\": df.timestamp[c],\n",
    "            \"URL\":    lx,\n",
    "            \"headline\": df.headline[c],\n",
    "            \"newsdate\":  df.newsdate[c]\n",
    "        }\n",
    "        listofdict.append(info)\n",
    "    return listofdict"
   ]
  },
  {
   "cell_type": "code",
   "execution_count": 17,
   "metadata": {},
   "outputs": [],
   "source": [
    "def convertTHMonth(monthString):\n",
    "    switcher = {\n",
    "        \"มกราคม\": 1,\n",
    "        \"กุมภาพันธ์\": 2,\n",
    "        \"มีนาคม\": 3,\n",
    "        \"เมษายน\":  4,\n",
    "        \"พฤษภาคม\": 5,\n",
    "        \"มิถุนายน\": 6,\n",
    "        \"กรกฎาคม\": 7,\n",
    "        \"สิงหาคม\": 8,\n",
    "        \"กันยายน\": 9,\n",
    "        \"ตุลาคม\": 10,\n",
    "        \"พฤศจิกายน\": 11,\n",
    "        \"ธันวาคม\": 12}\n",
    "    return switcher.get(monthString)"
   ]
  },
  {
   "cell_type": "code",
   "execution_count": 55,
   "metadata": {},
   "outputs": [],
   "source": [
    "# Connect MongoDB\n",
    "myclient = pymongo.MongoClient(\"mongodb://localhost:27017/\")\n",
    "mydb = myclient[\"BADS7101\"]\n",
    "q_c_urlList = mydb[\"URL_LIST_CRIME\"]\n",
    "q_p_urlList = mydb[\"URL_LIST_POLITIC\"]\n",
    "i_p2_urlList = mydb[\"URL_LIST_POLITIC_REMDUP\"]\n",
    "q_e_urlList = mydb[\"URL_LIST_ENTER\"]"
   ]
  },
  {
   "cell_type": "markdown",
   "metadata": {},
   "source": [
    "### Scrape URL"
   ]
  },
  {
   "cell_type": "code",
   "execution_count": 19,
   "metadata": {},
   "outputs": [],
   "source": [
    "urls_crime = 'https://www.dailynews.co.th/crime?page='\n",
    "urls_political = 'https://www.dailynews.co.th/politics?page='\n",
    "urls_entertain = 'https://www.dailynews.co.th/entertainment?page='"
   ]
  },
  {
   "cell_type": "code",
   "execution_count": null,
   "metadata": {},
   "outputs": [],
   "source": [
    "q_c_urlList.delete_many({})\n",
    "\n",
    "for e in range(1,maxLen):\n",
    "    today = datetime.now()\n",
    "    driver = webdriver.Chrome(executable_path='selenium/chromedriver.exe')\n",
    "    driver.get(urls_crime+str(e))\n",
    "    content=driver.page_source\n",
    "    soup=BeautifulSoup(content,'lxml')\n",
    "    urlList,dtList,hList = [],[],[]\n",
    "    \n",
    "    for div in soup.find_all(\"div\", class_=lambda value: value and value==\"left\"):\n",
    "        for a in div.find_all(\"a\", class_=lambda value: value and value==\"media\", href=True):\n",
    "            urlList.append(\"https://www.dailynews.co.th\"+str(a['href']).strip())\n",
    "            for s in a.find_all(\"span\", class_=lambda value: value and value==\"media-date\"):\n",
    "                dstr = s.text.strip().split()\n",
    "                dt = str(dstr[1])+\"/\"+str(convertTHMonth(dstr[2]))+\"/\"+str(int(dstr[3])-543)+\" \"+str(dstr[5]).replace('.',':')\n",
    "                dtList.append(datetime.strptime(dt, '%d/%m/%Y %H:%M'))\n",
    "            for h in a.find_all(\"h3\", class_=lambda value: value and value==\"media-heading\"):\n",
    "                hList.append(str(h.text.strip()))\n",
    "    process_data = create_ListofDict(urlList,hList,dtList,today)\n",
    "    q_c_urlList.insert_many(process_data)\n",
    "    time.sleep(2)\n",
    "    driver.quit()"
   ]
  },
  {
   "cell_type": "code",
   "execution_count": null,
   "metadata": {},
   "outputs": [
    {
     "name": "stdout",
     "output_type": "stream",
     "text": [
      "580\n"
     ]
    }
   ],
   "source": [
    "#q_p_urlList.delete_many({})\n",
    "\n",
    "for e in range(574,583):\n",
    "    print(e)\n",
    "    today = datetime.now()\n",
    "    driver = webdriver.Chrome(executable_path='selenium/chromedriver.exe')\n",
    "    driver.get(urls_political+str(e))\n",
    "    content=driver.page_source\n",
    "    soup=BeautifulSoup(content,'lxml')\n",
    "    try:\n",
    "        urlList,dtList,hList = [],[],[]\n",
    "        myElem = WebDriverWait(driver, 15).until(EC.visibility_of_element_located((By.CLASS_NAME, 'left')))\n",
    "        time.sleep(4)\n",
    "        for div in soup.find_all(\"div\", class_=lambda value: value and value==\"left\"):\n",
    "            for a in div.find_all(\"a\", class_=lambda value: value and value==\"media\", href=True):\n",
    "                urlList.append(\"https://www.dailynews.co.th\"+str(a['href']).strip())\n",
    "                for s in a.find_all(\"span\", class_=lambda value: value and value==\"media-date\"):\n",
    "                    dstr = s.text.strip().split()\n",
    "                    dt = str(dstr[1])+\"/\"+str(convertTHMonth(dstr[2]))+\"/\"+str(int(dstr[3])-543)+\" \"+str(dstr[5]).replace('.',':')\n",
    "                    dtList.append(datetime.strptime(dt, '%d/%m/%Y %H:%M'))\n",
    "                for h in a.find_all(\"h3\", class_=lambda value: value and value==\"media-heading\"):\n",
    "                    hList.append(str(h.text.strip()))\n",
    "        \n",
    "        process_data = create_ListofDict(urlList,hList,dtList,today)\n",
    "        q_p_urlList.insert_many(process_data)\n",
    "    except TimeoutException:\n",
    "        print('Request time out')\n",
    "    driver.quit()\n",
    "    clear_output(wait=True)"
   ]
  },
  {
   "cell_type": "code",
   "execution_count": 51,
   "metadata": {},
   "outputs": [],
   "source": [
    "cursor2 = q_p_urlList.find()\n",
    "df_politic_url = pd.DataFrame(cursor2)\n",
    "df_politic_url = df_politic_url[(df_politic_url.newsdate >= '2020-07-01 00:00:00')]\n",
    "df_politic_url.drop_duplicates(subset=['URL'], inplace=True, ignore_index=True)"
   ]
  },
  {
   "cell_type": "code",
   "execution_count": 52,
   "metadata": {},
   "outputs": [
    {
     "data": {
      "text/plain": [
       "(5526, 5)"
      ]
     },
     "execution_count": 52,
     "metadata": {},
     "output_type": "execute_result"
    }
   ],
   "source": [
    "df_politic_url.shape"
   ]
  },
  {
   "cell_type": "code",
   "execution_count": 53,
   "metadata": {},
   "outputs": [
    {
     "data": {
      "text/html": [
       "<div>\n",
       "<style scoped>\n",
       "    .dataframe tbody tr th:only-of-type {\n",
       "        vertical-align: middle;\n",
       "    }\n",
       "\n",
       "    .dataframe tbody tr th {\n",
       "        vertical-align: top;\n",
       "    }\n",
       "\n",
       "    .dataframe thead th {\n",
       "        text-align: right;\n",
       "    }\n",
       "</style>\n",
       "<table border=\"1\" class=\"dataframe\">\n",
       "  <thead>\n",
       "    <tr style=\"text-align: right;\">\n",
       "      <th></th>\n",
       "      <th>_id</th>\n",
       "      <th>timestamp</th>\n",
       "      <th>URL</th>\n",
       "      <th>headline</th>\n",
       "      <th>newsdate</th>\n",
       "    </tr>\n",
       "  </thead>\n",
       "  <tbody>\n",
       "    <tr>\n",
       "      <th>5521</th>\n",
       "      <td>5fa92265019e3d90e89381a0</td>\n",
       "      <td>2020-11-09 18:05:03.083</td>\n",
       "      <td>https://www.dailynews.co.th/politics/788743</td>\n",
       "      <td>รมว.ศธ.ชงทดลองเปิดเรียน100%ดีเดย์13ส.ค.</td>\n",
       "      <td>2020-08-07 15:35:00</td>\n",
       "    </tr>\n",
       "    <tr>\n",
       "      <th>5522</th>\n",
       "      <td>5fa92265019e3d90e89381a1</td>\n",
       "      <td>2020-11-09 18:05:03.083</td>\n",
       "      <td>https://www.dailynews.co.th/politics/788742</td>\n",
       "      <td>สบส.สั่งปิด2คลินิกโกงงบบัตรทอง ขู่ถอนใบอนุญาต</td>\n",
       "      <td>2020-08-07 15:30:00</td>\n",
       "    </tr>\n",
       "    <tr>\n",
       "      <th>5523</th>\n",
       "      <td>5fa92265019e3d90e89381a2</td>\n",
       "      <td>2020-11-09 18:05:03.083</td>\n",
       "      <td>https://www.dailynews.co.th/politics/788741</td>\n",
       "      <td>สธ.เผยผลตรวจทหารสหรัฐ110รายไม่พบโควิด-19</td>\n",
       "      <td>2020-08-07 15:28:00</td>\n",
       "    </tr>\n",
       "    <tr>\n",
       "      <th>5524</th>\n",
       "      <td>5fa92265019e3d90e89381a3</td>\n",
       "      <td>2020-11-09 18:05:03.083</td>\n",
       "      <td>https://www.dailynews.co.th/politics/788738</td>\n",
       "      <td>เตือน!คนรุ่นใหม่ลุกฮือสู้เผด็จการ ล่า5หมื่นชื่...</td>\n",
       "      <td>2020-08-07 15:21:00</td>\n",
       "    </tr>\n",
       "    <tr>\n",
       "      <th>5525</th>\n",
       "      <td>5fa92265019e3d90e89381a4</td>\n",
       "      <td>2020-11-09 18:05:03.083</td>\n",
       "      <td>https://www.dailynews.co.th/politics/788726</td>\n",
       "      <td>\"ชวน\"เตือนสังคมไทยอย่าเกรงใจจนทำสิ่งไม่ถูกต้อง</td>\n",
       "      <td>2020-08-07 15:16:00</td>\n",
       "    </tr>\n",
       "  </tbody>\n",
       "</table>\n",
       "</div>"
      ],
      "text/plain": [
       "                           _id               timestamp  \\\n",
       "5521  5fa92265019e3d90e89381a0 2020-11-09 18:05:03.083   \n",
       "5522  5fa92265019e3d90e89381a1 2020-11-09 18:05:03.083   \n",
       "5523  5fa92265019e3d90e89381a2 2020-11-09 18:05:03.083   \n",
       "5524  5fa92265019e3d90e89381a3 2020-11-09 18:05:03.083   \n",
       "5525  5fa92265019e3d90e89381a4 2020-11-09 18:05:03.083   \n",
       "\n",
       "                                              URL  \\\n",
       "5521  https://www.dailynews.co.th/politics/788743   \n",
       "5522  https://www.dailynews.co.th/politics/788742   \n",
       "5523  https://www.dailynews.co.th/politics/788741   \n",
       "5524  https://www.dailynews.co.th/politics/788738   \n",
       "5525  https://www.dailynews.co.th/politics/788726   \n",
       "\n",
       "                                               headline            newsdate  \n",
       "5521            รมว.ศธ.ชงทดลองเปิดเรียน100%ดีเดย์13ส.ค. 2020-08-07 15:35:00  \n",
       "5522      สบส.สั่งปิด2คลินิกโกงงบบัตรทอง ขู่ถอนใบอนุญาต 2020-08-07 15:30:00  \n",
       "5523           สธ.เผยผลตรวจทหารสหรัฐ110รายไม่พบโควิด-19 2020-08-07 15:28:00  \n",
       "5524  เตือน!คนรุ่นใหม่ลุกฮือสู้เผด็จการ ล่า5หมื่นชื่... 2020-08-07 15:21:00  \n",
       "5525     \"ชวน\"เตือนสังคมไทยอย่าเกรงใจจนทำสิ่งไม่ถูกต้อง 2020-08-07 15:16:00  "
      ]
     },
     "execution_count": 53,
     "metadata": {},
     "output_type": "execute_result"
    }
   ],
   "source": [
    "df_politic_url.tail()"
   ]
  },
  {
   "cell_type": "code",
   "execution_count": 56,
   "metadata": {},
   "outputs": [
    {
     "data": {
      "text/plain": [
       "<pymongo.results.InsertManyResult at 0x1b4f8f450c8>"
      ]
     },
     "execution_count": 56,
     "metadata": {},
     "output_type": "execute_result"
    }
   ],
   "source": [
    "process_data = create_ListofDictdf(df_politic_url)\n",
    "i_p2_urlList.insert_many(process_data)"
   ]
  },
  {
   "cell_type": "code",
   "execution_count": null,
   "metadata": {},
   "outputs": [],
   "source": []
  },
  {
   "cell_type": "code",
   "execution_count": null,
   "metadata": {},
   "outputs": [],
   "source": [
    "q_e_urlList.delete_many({})\n",
    "\n",
    "for e in range(1,maxLen):\n",
    "    today = datetime.now()\n",
    "    driver = webdriver.Chrome(executable_path='selenium/chromedriver.exe')\n",
    "    driver.get(urls_entertain+str(e))\n",
    "    content=driver.page_source\n",
    "    soup=BeautifulSoup(content,'lxml')\n",
    "    urlList,dtList,hList = [],[],[]\n",
    "    \n",
    "    for div in soup.find_all(\"div\", class_=lambda value: value and value==\"left\"):\n",
    "        for a in div.find_all(\"a\", class_=lambda value: value and value==\"media\", href=True):\n",
    "            urlList.append(\"https://www.dailynews.co.th\"+str(a['href']).strip())\n",
    "            for s in a.find_all(\"span\", class_=lambda value: value and value==\"media-date\"):\n",
    "                dstr = s.text.strip().split()\n",
    "                dt = str(dstr[1])+\"/\"+str(convertTHMonth(dstr[2]))+\"/\"+str(int(dstr[3])-543)+\" \"+str(dstr[5]).replace('.',':')\n",
    "                dtList.append(datetime.strptime(dt, '%d/%m/%Y %H:%M'))\n",
    "            for h in a.find_all(\"h3\", class_=lambda value: value and value==\"media-heading\"):\n",
    "                hList.append(str(h.text.strip()))\n",
    "    process_data = create_ListofDict(urlList,hList,dtList,today)\n",
    "    q_e_urlList.insert_many(process_data)\n",
    "    time.sleep(2)\n",
    "    driver.quit()"
   ]
  },
  {
   "cell_type": "code",
   "execution_count": null,
   "metadata": {},
   "outputs": [],
   "source": []
  }
 ],
 "metadata": {
  "kernelspec": {
   "display_name": "Python 3",
   "language": "python",
   "name": "python3"
  },
  "language_info": {
   "codemirror_mode": {
    "name": "ipython",
    "version": 3
   },
   "file_extension": ".py",
   "mimetype": "text/x-python",
   "name": "python",
   "nbconvert_exporter": "python",
   "pygments_lexer": "ipython3",
   "version": "3.7.3"
  }
 },
 "nbformat": 4,
 "nbformat_minor": 2
}
