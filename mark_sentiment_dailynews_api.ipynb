{
 "cells": [
  {
   "cell_type": "code",
   "execution_count": 1,
   "metadata": {},
   "outputs": [],
   "source": [
    "import numpy as np\n",
    "import time\n",
    "import math\n",
    "from datetime import datetime\n",
    "from datetime import timedelta\n",
    "import pandas as pd\n",
    "import requests\n",
    "import json\n",
    "import pymongo\n",
    "import itertools"
   ]
  },
  {
   "cell_type": "code",
   "execution_count": 2,
   "metadata": {},
   "outputs": [],
   "source": [
    "from IPython.display import clear_output"
   ]
  },
  {
   "cell_type": "code",
   "execution_count": 3,
   "metadata": {},
   "outputs": [],
   "source": [
    "from matplotlib import pyplot as plt\n",
    "from matplotlib.ticker import MaxNLocator"
   ]
  },
  {
   "cell_type": "code",
   "execution_count": 4,
   "metadata": {},
   "outputs": [],
   "source": [
    "import pythainlp\n",
    "from pythainlp import Tokenizer\n",
    "from pythainlp.util import normalize\n",
    "from pythainlp.tokenize import word_tokenize\n",
    "from pythainlp.corpus.common import thai_words\n",
    "from pythainlp import sent_tokenize\n",
    "from pythainlp.corpus import thai_stopwords"
   ]
  },
  {
   "cell_type": "code",
   "execution_count": 5,
   "metadata": {},
   "outputs": [],
   "source": [
    "def create_ListofDict_InsertOne(df):\n",
    "    info = {\n",
    "            \"Category\": df.Category,\n",
    "            \"timestamp\": df.timestamp,\n",
    "            \"URL\":df.URL,\n",
    "            \"headline\": df.headline,\n",
    "            \"newsdate\": df.newsdate,\n",
    "            \"newsdate_date\": str(df.newsdate_date),\n",
    "            \"totalView\": int(df.totalView),\n",
    "            \"totalShare\": int(df.totalShare),\n",
    "            \"share_fb\": int(df.share_fb),\n",
    "            \"share_tw\": int(df.share_tw),\n",
    "            \"share_gp\": int(df.share_gp),\n",
    "            \"text\": df.text,\n",
    "            \"hl_sentiment_score\": float(df.hl_sentiment_score),\n",
    "            \"hl_polarity\": df.hl_polarity,\n",
    "            \"hl_neg_kw\": df.hl_neg_kw,\n",
    "            \"hl_pos_kw\": df.hl_pos_kw,\n",
    "            \"t_sentiment_score\": float(df.t_sentiment_score),\n",
    "            \"t_polarity\": df.t_polarity,\n",
    "            \"t_neg_kw\": df.t_neg_kw,\n",
    "            \"t_pos_kw\": df.t_pos_kw,\n",
    "            \"dateDiff\": float(df.dateDiff), \n",
    "            \"avg_share_per_day\": float(df.avg_share_per_day),\n",
    "            \"avg_view_per_day\": float(df.avg_view_per_day)\n",
    "    }\n",
    "    return info"
   ]
  },
  {
   "cell_type": "code",
   "execution_count": 6,
   "metadata": {},
   "outputs": [],
   "source": [
    "postNum = 30\n",
    "postNumSleep = math.ceil(60/postNum)\n",
    "\n",
    "url = \"https://api.aiforthai.in.th/ssense\"\n",
    "headers = {\n",
    "    'Apikey': \"ymYbYiJ89ha609Nnv7wuV1CWJFLyCEYo\"\n",
    "    }"
   ]
  },
  {
   "cell_type": "code",
   "execution_count": 7,
   "metadata": {},
   "outputs": [],
   "source": [
    "def plotSentiment_Dist(op, polarity,topic):\n",
    "    t_cat_ratio = op.groupby([polarity,'Category']).agg({topic: lambda x: len(x)}).reset_index('Category')\n",
    "    #d_ax1 = t_cat_ratio[t_cat_ratio.Category=='Crime'][topic]\n",
    "    d_ax2 = t_cat_ratio[t_cat_ratio.Category=='Politic'][topic]\n",
    "    #d_ax3 = t_cat_ratio[t_cat_ratio.Category=='Entertain'][topic]\n",
    "\n",
    "    #bar_label1,bar_label2,bar_label3 = d_ax1.index,d_ax2.index,d_ax3.index\n",
    "    bar_label2 = d_ax2.index\n",
    "\n",
    "    #fig, ax = plt.subplots(1, 3, figsize=(15, 5), sharey=True)\n",
    "    fig, ax = plt.subplots(1, 1, figsize=(15, 5), sharey=True)\n",
    "    #ax[0].grid(color='k', linestyle='-', linewidth=0.2)\n",
    "    #ax[0].bar(bar_label1, d_ax1)\n",
    "    #ax[0].set_xticklabels(d_ax1.index)\n",
    "    #ax[0].set_title(f'Sentiment distribution : {topic} - Crime')\n",
    "    #ax[0].set_xlabel('Sentiment')\n",
    "    #ax[0].set_ylabel('count_news')\n",
    "\n",
    "    ax.grid(color='k', linestyle='-', linewidth=0.2)\n",
    "    ax.bar(bar_label2, d_ax2)\n",
    "    ax.set_xticklabels(d_ax2.index)\n",
    "    ax.set_title(f'Sentiment distribution : {topic} - Politic')\n",
    "    ax.set_xlabel('Sentiment')\n",
    "    ax.set_ylabel('count_news')\n",
    "\n",
    "    #ax[2].grid(color='k', linestyle='-', linewidth=0.2)\n",
    "    #ax[2].bar(bar_label3, d_ax3)\n",
    "    #ax[2].set_xticklabels(d_ax3.index)\n",
    "    #ax[2].set_title(f'Sentiment distribution : {topic} - Entertain')\n",
    "    #ax[2].set_xlabel('Sentiment')\n",
    "    #ax[2].set_ylabel('count_news')\n",
    "\n",
    "    plt.show()"
   ]
  },
  {
   "cell_type": "markdown",
   "metadata": {},
   "source": [
    "### Mark sentiment"
   ]
  },
  {
   "cell_type": "code",
   "execution_count": 8,
   "metadata": {},
   "outputs": [],
   "source": [
    "myclient = pymongo.MongoClient(\"mongodb://localhost:27017/\")\n",
    "mydb = myclient[\"BADS7101\"]\n",
    "#q_c_urlList = mydb[\"URL_LIST_CRIME\"]\n",
    "#i_c_scrape = mydb[\"CRIME_NEWS\"]\n",
    "\n",
    "q_p_urlList = mydb[\"URL_LIST_POLITIC_REMDUP\"]\n",
    "i_p_scrape = mydb[\"POLITIC_NEWS_U\"]\n",
    "\n",
    "#q_e_urlList = mydb[\"URL_LIST_ENTER\"]\n",
    "#i_e_scrape = mydb[\"ENTERTAIN_NEWS\"]"
   ]
  },
  {
   "cell_type": "raw",
   "metadata": {},
   "source": [
    "cursor_crime = q_c_urlList.find()\n",
    "cursor_crime_s = i_c_scrape.find()\n",
    "\n",
    "df_crime_url = pd.DataFrame(cursor_crime)\n",
    "df_crime_detail = pd.DataFrame(cursor_crime_s)\n",
    "df_crime_join = pd.merge(df_crime_url,df_crime_detail,how=\"inner\",on=['URL'])\n",
    "df_crime_join.insert(0,'Category',value='Crime')"
   ]
  },
  {
   "cell_type": "raw",
   "metadata": {},
   "source": [
    "cursor_ent = q_e_urlList.find()\n",
    "cursor_ent_s = i_e_scrape.find()\n",
    "\n",
    "df_ent_url = pd.DataFrame(cursor_ent)\n",
    "df_ent_detail = pd.DataFrame(cursor_ent_s)\n",
    "df_ent_join = pd.merge(df_ent_url,df_ent_detail,how=\"inner\",on=['URL'])\n",
    "df_ent_join.insert(0,'Category',value='Entertain')"
   ]
  },
  {
   "cell_type": "code",
   "execution_count": 9,
   "metadata": {},
   "outputs": [],
   "source": [
    "cursor_pol = q_p_urlList.find()\n",
    "cursor_pol_s = i_p_scrape.find()\n",
    "\n",
    "df_pol_url = pd.DataFrame(cursor_pol)\n",
    "df_pol_detail = pd.DataFrame(cursor_pol_s)\n",
    "df_pol_join = pd.merge(df_pol_url,df_pol_detail,how=\"inner\",on=['URL'])\n",
    "df_pol_join.insert(0,'Category',value='Politic')"
   ]
  },
  {
   "cell_type": "code",
   "execution_count": 10,
   "metadata": {},
   "outputs": [],
   "source": [
    "#df_plotViz = pd.concat([df_crime_join,df_pol_join,df_ent_join],ignore_index=True)\n",
    "df_plotViz = df_pol_join.copy()"
   ]
  },
  {
   "cell_type": "code",
   "execution_count": 11,
   "metadata": {},
   "outputs": [],
   "source": [
    "df_plotViz.insert(6,'newsdate_date',value=None)\n",
    "df_plotViz['newsdate_date'] = df_plotViz['newsdate'].dt.date"
   ]
  },
  {
   "cell_type": "code",
   "execution_count": 12,
   "metadata": {},
   "outputs": [
    {
     "data": {
      "text/plain": [
       "(5522, 14)"
      ]
     },
     "execution_count": 12,
     "metadata": {},
     "output_type": "execute_result"
    }
   ],
   "source": [
    "df_plotViz.shape"
   ]
  },
  {
   "cell_type": "code",
   "execution_count": 13,
   "metadata": {},
   "outputs": [],
   "source": [
    "df_plotViz.drop(['_id_x', '_id_y'], axis=1,inplace=True)"
   ]
  },
  {
   "cell_type": "code",
   "execution_count": 14,
   "metadata": {},
   "outputs": [
    {
     "data": {
      "text/plain": [
       "(4961, 12)"
      ]
     },
     "execution_count": 14,
     "metadata": {},
     "output_type": "execute_result"
    }
   ],
   "source": [
    "mind = datetime.strptime(str('2020-07-01 00:00:00'), '%Y-%m-%d %H:%M:%S')\n",
    "maxd = datetime.strptime(str('2020-10-24 23:59:00'), '%Y-%m-%d %H:%M:%S')\n",
    "# เอาเฉพาะ avg_share_per_day สูงกว่า mean หมวดข่าวนั้น\n",
    "df_plotViz = df_plotViz[(df_plotViz.newsdate>=mind)&(df_plotViz.newsdate<maxd)]\n",
    "df_plotViz.shape"
   ]
  },
  {
   "cell_type": "code",
   "execution_count": 15,
   "metadata": {},
   "outputs": [],
   "source": [
    "current_day = datetime.strptime(str('2020-10-25 23:59:00'), '%Y-%m-%d %H:%M:%S')\n",
    "df_plotViz['dateDiff']  = df_plotViz['newsdate'].apply(lambda x : current_day - x )\n",
    "df_plotViz['dateDiff']  = df_plotViz['dateDiff'].apply(lambda x : x.days)\n",
    "df_plotViz['avg_share_per_day']  = df_plotViz['totalShare'] / df_plotViz['dateDiff']\n",
    "df_plotViz['avg_view_per_day']  = df_plotViz['totalView'] / df_plotViz['dateDiff']"
   ]
  },
  {
   "cell_type": "code",
   "execution_count": 16,
   "metadata": {},
   "outputs": [],
   "source": [
    "df_plotViz.insert(12,'hl_sentiment_score',value=None)\n",
    "df_plotViz.insert(13,'hl_polarity',value=None)\n",
    "df_plotViz.insert(14,'hl_neg_kw',value=None)\n",
    "df_plotViz.insert(15,'hl_pos_kw',value=None)\n",
    "df_plotViz.insert(16,'t_sentiment_score',value=None)\n",
    "df_plotViz.insert(17,'t_polarity',value=None)\n",
    "df_plotViz.insert(18,'t_neg_kw',value=None)\n",
    "df_plotViz.insert(19,'t_pos_kw',value=None)"
   ]
  },
  {
   "cell_type": "code",
   "execution_count": 17,
   "metadata": {},
   "outputs": [
    {
     "data": {
      "text/html": [
       "<div>\n",
       "<style scoped>\n",
       "    .dataframe tbody tr th:only-of-type {\n",
       "        vertical-align: middle;\n",
       "    }\n",
       "\n",
       "    .dataframe tbody tr th {\n",
       "        vertical-align: top;\n",
       "    }\n",
       "\n",
       "    .dataframe thead th {\n",
       "        text-align: right;\n",
       "    }\n",
       "</style>\n",
       "<table border=\"1\" class=\"dataframe\">\n",
       "  <thead>\n",
       "    <tr style=\"text-align: right;\">\n",
       "      <th></th>\n",
       "      <th>Category</th>\n",
       "      <th>timestamp</th>\n",
       "      <th>URL</th>\n",
       "      <th>headline</th>\n",
       "      <th>newsdate</th>\n",
       "      <th>newsdate_date</th>\n",
       "      <th>totalView</th>\n",
       "      <th>totalShare</th>\n",
       "      <th>share_fb</th>\n",
       "      <th>share_tw</th>\n",
       "      <th>...</th>\n",
       "      <th>hl_polarity</th>\n",
       "      <th>hl_neg_kw</th>\n",
       "      <th>hl_pos_kw</th>\n",
       "      <th>t_sentiment_score</th>\n",
       "      <th>t_polarity</th>\n",
       "      <th>t_neg_kw</th>\n",
       "      <th>t_pos_kw</th>\n",
       "      <th>dateDiff</th>\n",
       "      <th>avg_share_per_day</th>\n",
       "      <th>avg_view_per_day</th>\n",
       "    </tr>\n",
       "  </thead>\n",
       "  <tbody>\n",
       "    <tr>\n",
       "      <th>5520</th>\n",
       "      <td>Politic</td>\n",
       "      <td>2020-11-09 18:05:03.083</td>\n",
       "      <td>https://www.dailynews.co.th/politics/788738</td>\n",
       "      <td>เตือน!คนรุ่นใหม่ลุกฮือสู้เผด็จการ ล่า5หมื่นชื่...</td>\n",
       "      <td>2020-08-07 15:21:00</td>\n",
       "      <td>2020-08-07</td>\n",
       "      <td>1675</td>\n",
       "      <td>10.0</td>\n",
       "      <td>5.0</td>\n",
       "      <td>2</td>\n",
       "      <td>...</td>\n",
       "      <td>None</td>\n",
       "      <td>None</td>\n",
       "      <td>None</td>\n",
       "      <td>None</td>\n",
       "      <td>None</td>\n",
       "      <td>None</td>\n",
       "      <td>None</td>\n",
       "      <td>79</td>\n",
       "      <td>0.126582</td>\n",
       "      <td>21.202532</td>\n",
       "    </tr>\n",
       "    <tr>\n",
       "      <th>5521</th>\n",
       "      <td>Politic</td>\n",
       "      <td>2020-11-09 18:05:03.083</td>\n",
       "      <td>https://www.dailynews.co.th/politics/788726</td>\n",
       "      <td>\"ชวน\"เตือนสังคมไทยอย่าเกรงใจจนทำสิ่งไม่ถูกต้อง</td>\n",
       "      <td>2020-08-07 15:16:00</td>\n",
       "      <td>2020-08-07</td>\n",
       "      <td>1382</td>\n",
       "      <td>15.0</td>\n",
       "      <td>8.0</td>\n",
       "      <td>3</td>\n",
       "      <td>...</td>\n",
       "      <td>None</td>\n",
       "      <td>None</td>\n",
       "      <td>None</td>\n",
       "      <td>None</td>\n",
       "      <td>None</td>\n",
       "      <td>None</td>\n",
       "      <td>None</td>\n",
       "      <td>79</td>\n",
       "      <td>0.189873</td>\n",
       "      <td>17.493671</td>\n",
       "    </tr>\n",
       "  </tbody>\n",
       "</table>\n",
       "<p>2 rows × 23 columns</p>\n",
       "</div>"
      ],
      "text/plain": [
       "     Category               timestamp  \\\n",
       "5520  Politic 2020-11-09 18:05:03.083   \n",
       "5521  Politic 2020-11-09 18:05:03.083   \n",
       "\n",
       "                                              URL  \\\n",
       "5520  https://www.dailynews.co.th/politics/788738   \n",
       "5521  https://www.dailynews.co.th/politics/788726   \n",
       "\n",
       "                                               headline            newsdate  \\\n",
       "5520  เตือน!คนรุ่นใหม่ลุกฮือสู้เผด็จการ ล่า5หมื่นชื่... 2020-08-07 15:21:00   \n",
       "5521     \"ชวน\"เตือนสังคมไทยอย่าเกรงใจจนทำสิ่งไม่ถูกต้อง 2020-08-07 15:16:00   \n",
       "\n",
       "     newsdate_date  totalView  totalShare  share_fb  share_tw  ...  \\\n",
       "5520    2020-08-07       1675        10.0       5.0         2  ...   \n",
       "5521    2020-08-07       1382        15.0       8.0         3  ...   \n",
       "\n",
       "      hl_polarity hl_neg_kw hl_pos_kw t_sentiment_score t_polarity t_neg_kw  \\\n",
       "5520         None      None      None              None       None     None   \n",
       "5521         None      None      None              None       None     None   \n",
       "\n",
       "     t_pos_kw dateDiff avg_share_per_day avg_view_per_day  \n",
       "5520     None       79          0.126582        21.202532  \n",
       "5521     None       79          0.189873        17.493671  \n",
       "\n",
       "[2 rows x 23 columns]"
      ]
     },
     "execution_count": 17,
     "metadata": {},
     "output_type": "execute_result"
    }
   ],
   "source": [
    "df_plotViz.tail(2)"
   ]
  },
  {
   "cell_type": "code",
   "execution_count": 18,
   "metadata": {},
   "outputs": [
    {
     "data": {
      "text/html": [
       "<div>\n",
       "<style scoped>\n",
       "    .dataframe tbody tr th:only-of-type {\n",
       "        vertical-align: middle;\n",
       "    }\n",
       "\n",
       "    .dataframe tbody tr th {\n",
       "        vertical-align: top;\n",
       "    }\n",
       "\n",
       "    .dataframe thead th {\n",
       "        text-align: right;\n",
       "    }\n",
       "</style>\n",
       "<table border=\"1\" class=\"dataframe\">\n",
       "  <thead>\n",
       "    <tr style=\"text-align: right;\">\n",
       "      <th></th>\n",
       "      <th>totalView</th>\n",
       "      <th>totalShare</th>\n",
       "      <th>share_fb</th>\n",
       "      <th>share_tw</th>\n",
       "      <th>share_gp</th>\n",
       "      <th>dateDiff</th>\n",
       "      <th>avg_share_per_day</th>\n",
       "      <th>avg_view_per_day</th>\n",
       "    </tr>\n",
       "  </thead>\n",
       "  <tbody>\n",
       "    <tr>\n",
       "      <th>count</th>\n",
       "      <td>4961.000000</td>\n",
       "      <td>4961.000000</td>\n",
       "      <td>4961.000000</td>\n",
       "      <td>4961.000000</td>\n",
       "      <td>4961.000000</td>\n",
       "      <td>4961.000000</td>\n",
       "      <td>4961.000000</td>\n",
       "      <td>4961.000000</td>\n",
       "    </tr>\n",
       "    <tr>\n",
       "      <th>mean</th>\n",
       "      <td>3689.912114</td>\n",
       "      <td>26.361419</td>\n",
       "      <td>14.799234</td>\n",
       "      <td>5.603709</td>\n",
       "      <td>5.954042</td>\n",
       "      <td>55.367466</td>\n",
       "      <td>1.570616</td>\n",
       "      <td>230.663748</td>\n",
       "    </tr>\n",
       "    <tr>\n",
       "      <th>std</th>\n",
       "      <td>10665.259922</td>\n",
       "      <td>127.684666</td>\n",
       "      <td>125.373970</td>\n",
       "      <td>8.762099</td>\n",
       "      <td>6.338622</td>\n",
       "      <td>33.837048</td>\n",
       "      <td>30.810389</td>\n",
       "      <td>1382.630855</td>\n",
       "    </tr>\n",
       "    <tr>\n",
       "      <th>min</th>\n",
       "      <td>233.000000</td>\n",
       "      <td>1.000000</td>\n",
       "      <td>0.000000</td>\n",
       "      <td>0.000000</td>\n",
       "      <td>0.000000</td>\n",
       "      <td>1.000000</td>\n",
       "      <td>0.026316</td>\n",
       "      <td>3.979592</td>\n",
       "    </tr>\n",
       "    <tr>\n",
       "      <th>25%</th>\n",
       "      <td>1237.000000</td>\n",
       "      <td>11.000000</td>\n",
       "      <td>4.000000</td>\n",
       "      <td>3.000000</td>\n",
       "      <td>4.000000</td>\n",
       "      <td>26.000000</td>\n",
       "      <td>0.182609</td>\n",
       "      <td>20.765625</td>\n",
       "    </tr>\n",
       "    <tr>\n",
       "      <th>50%</th>\n",
       "      <td>1697.000000</td>\n",
       "      <td>14.000000</td>\n",
       "      <td>5.000000</td>\n",
       "      <td>4.000000</td>\n",
       "      <td>5.000000</td>\n",
       "      <td>55.000000</td>\n",
       "      <td>0.297872</td>\n",
       "      <td>40.073171</td>\n",
       "    </tr>\n",
       "    <tr>\n",
       "      <th>75%</th>\n",
       "      <td>3015.000000</td>\n",
       "      <td>19.000000</td>\n",
       "      <td>7.000000</td>\n",
       "      <td>6.000000</td>\n",
       "      <td>6.000000</td>\n",
       "      <td>84.000000</td>\n",
       "      <td>0.636364</td>\n",
       "      <td>100.428571</td>\n",
       "    </tr>\n",
       "    <tr>\n",
       "      <th>max</th>\n",
       "      <td>313770.000000</td>\n",
       "      <td>3010.000000</td>\n",
       "      <td>3000.000000</td>\n",
       "      <td>218.000000</td>\n",
       "      <td>146.000000</td>\n",
       "      <td>116.000000</td>\n",
       "      <td>2140.000000</td>\n",
       "      <td>49658.000000</td>\n",
       "    </tr>\n",
       "  </tbody>\n",
       "</table>\n",
       "</div>"
      ],
      "text/plain": [
       "           totalView   totalShare     share_fb     share_tw     share_gp  \\\n",
       "count    4961.000000  4961.000000  4961.000000  4961.000000  4961.000000   \n",
       "mean     3689.912114    26.361419    14.799234     5.603709     5.954042   \n",
       "std     10665.259922   127.684666   125.373970     8.762099     6.338622   \n",
       "min       233.000000     1.000000     0.000000     0.000000     0.000000   \n",
       "25%      1237.000000    11.000000     4.000000     3.000000     4.000000   \n",
       "50%      1697.000000    14.000000     5.000000     4.000000     5.000000   \n",
       "75%      3015.000000    19.000000     7.000000     6.000000     6.000000   \n",
       "max    313770.000000  3010.000000  3000.000000   218.000000   146.000000   \n",
       "\n",
       "          dateDiff  avg_share_per_day  avg_view_per_day  \n",
       "count  4961.000000        4961.000000       4961.000000  \n",
       "mean     55.367466           1.570616        230.663748  \n",
       "std      33.837048          30.810389       1382.630855  \n",
       "min       1.000000           0.026316          3.979592  \n",
       "25%      26.000000           0.182609         20.765625  \n",
       "50%      55.000000           0.297872         40.073171  \n",
       "75%      84.000000           0.636364        100.428571  \n",
       "max     116.000000        2140.000000      49658.000000  "
      ]
     },
     "execution_count": 18,
     "metadata": {},
     "output_type": "execute_result"
    }
   ],
   "source": [
    "df_plotViz.describe()"
   ]
  },
  {
   "cell_type": "code",
   "execution_count": 19,
   "metadata": {},
   "outputs": [
    {
     "data": {
      "text/plain": [
       "(549, 23)"
      ]
     },
     "execution_count": 19,
     "metadata": {},
     "output_type": "execute_result"
    }
   ],
   "source": [
    "# เอาเฉพาะ avg_view_per_day สูงกว่า mean หมวดข่าวนั้น\n",
    "df_plotViz = df_plotViz[(df_plotViz.avg_share_per_day>=1.570616)]\n",
    "df_plotViz.shape"
   ]
  },
  {
   "cell_type": "code",
   "execution_count": 20,
   "metadata": {},
   "outputs": [
    {
     "data": {
      "text/html": [
       "<div>\n",
       "<style scoped>\n",
       "    .dataframe tbody tr th:only-of-type {\n",
       "        vertical-align: middle;\n",
       "    }\n",
       "\n",
       "    .dataframe tbody tr th {\n",
       "        vertical-align: top;\n",
       "    }\n",
       "\n",
       "    .dataframe thead th {\n",
       "        text-align: right;\n",
       "    }\n",
       "</style>\n",
       "<table border=\"1\" class=\"dataframe\">\n",
       "  <thead>\n",
       "    <tr style=\"text-align: right;\">\n",
       "      <th></th>\n",
       "      <th>totalView</th>\n",
       "      <th>totalShare</th>\n",
       "      <th>share_fb</th>\n",
       "      <th>share_tw</th>\n",
       "      <th>share_gp</th>\n",
       "      <th>dateDiff</th>\n",
       "      <th>avg_share_per_day</th>\n",
       "      <th>avg_view_per_day</th>\n",
       "    </tr>\n",
       "  </thead>\n",
       "  <tbody>\n",
       "    <tr>\n",
       "      <th>count</th>\n",
       "      <td>549.000000</td>\n",
       "      <td>549.000000</td>\n",
       "      <td>549.00000</td>\n",
       "      <td>549.000000</td>\n",
       "      <td>549.000000</td>\n",
       "      <td>549.000000</td>\n",
       "      <td>549.000000</td>\n",
       "      <td>549.000000</td>\n",
       "    </tr>\n",
       "    <tr>\n",
       "      <th>mean</th>\n",
       "      <td>11976.202186</td>\n",
       "      <td>107.806922</td>\n",
       "      <td>85.80510</td>\n",
       "      <td>12.471767</td>\n",
       "      <td>9.489982</td>\n",
       "      <td>11.480874</td>\n",
       "      <td>11.174521</td>\n",
       "      <td>1591.840062</td>\n",
       "    </tr>\n",
       "    <tr>\n",
       "      <th>std</th>\n",
       "      <td>29529.109441</td>\n",
       "      <td>373.389641</td>\n",
       "      <td>369.39973</td>\n",
       "      <td>23.769683</td>\n",
       "      <td>16.448171</td>\n",
       "      <td>19.412589</td>\n",
       "      <td>92.127040</td>\n",
       "      <td>3894.890145</td>\n",
       "    </tr>\n",
       "    <tr>\n",
       "      <th>min</th>\n",
       "      <td>540.000000</td>\n",
       "      <td>7.000000</td>\n",
       "      <td>2.00000</td>\n",
       "      <td>2.000000</td>\n",
       "      <td>1.000000</td>\n",
       "      <td>1.000000</td>\n",
       "      <td>1.571429</td>\n",
       "      <td>11.989796</td>\n",
       "    </tr>\n",
       "    <tr>\n",
       "      <th>25%</th>\n",
       "      <td>1273.000000</td>\n",
       "      <td>12.000000</td>\n",
       "      <td>5.00000</td>\n",
       "      <td>3.000000</td>\n",
       "      <td>3.000000</td>\n",
       "      <td>4.000000</td>\n",
       "      <td>2.125000</td>\n",
       "      <td>305.600000</td>\n",
       "    </tr>\n",
       "    <tr>\n",
       "      <th>50%</th>\n",
       "      <td>3017.000000</td>\n",
       "      <td>17.000000</td>\n",
       "      <td>6.00000</td>\n",
       "      <td>5.000000</td>\n",
       "      <td>4.000000</td>\n",
       "      <td>6.000000</td>\n",
       "      <td>3.250000</td>\n",
       "      <td>590.750000</td>\n",
       "    </tr>\n",
       "    <tr>\n",
       "      <th>75%</th>\n",
       "      <td>7747.000000</td>\n",
       "      <td>31.000000</td>\n",
       "      <td>12.00000</td>\n",
       "      <td>9.000000</td>\n",
       "      <td>7.000000</td>\n",
       "      <td>9.000000</td>\n",
       "      <td>6.400000</td>\n",
       "      <td>1246.000000</td>\n",
       "    </tr>\n",
       "    <tr>\n",
       "      <th>max</th>\n",
       "      <td>313770.000000</td>\n",
       "      <td>3010.000000</td>\n",
       "      <td>3000.00000</td>\n",
       "      <td>218.000000</td>\n",
       "      <td>146.000000</td>\n",
       "      <td>113.000000</td>\n",
       "      <td>2140.000000</td>\n",
       "      <td>49658.000000</td>\n",
       "    </tr>\n",
       "  </tbody>\n",
       "</table>\n",
       "</div>"
      ],
      "text/plain": [
       "           totalView   totalShare    share_fb    share_tw    share_gp  \\\n",
       "count     549.000000   549.000000   549.00000  549.000000  549.000000   \n",
       "mean    11976.202186   107.806922    85.80510   12.471767    9.489982   \n",
       "std     29529.109441   373.389641   369.39973   23.769683   16.448171   \n",
       "min       540.000000     7.000000     2.00000    2.000000    1.000000   \n",
       "25%      1273.000000    12.000000     5.00000    3.000000    3.000000   \n",
       "50%      3017.000000    17.000000     6.00000    5.000000    4.000000   \n",
       "75%      7747.000000    31.000000    12.00000    9.000000    7.000000   \n",
       "max    313770.000000  3010.000000  3000.00000  218.000000  146.000000   \n",
       "\n",
       "         dateDiff  avg_share_per_day  avg_view_per_day  \n",
       "count  549.000000         549.000000        549.000000  \n",
       "mean    11.480874          11.174521       1591.840062  \n",
       "std     19.412589          92.127040       3894.890145  \n",
       "min      1.000000           1.571429         11.989796  \n",
       "25%      4.000000           2.125000        305.600000  \n",
       "50%      6.000000           3.250000        590.750000  \n",
       "75%      9.000000           6.400000       1246.000000  \n",
       "max    113.000000        2140.000000      49658.000000  "
      ]
     },
     "execution_count": 20,
     "metadata": {},
     "output_type": "execute_result"
    }
   ],
   "source": [
    "df_plotViz.describe()"
   ]
  },
  {
   "cell_type": "code",
   "execution_count": 21,
   "metadata": {},
   "outputs": [
    {
     "data": {
      "text/plain": [
       "<pymongo.results.DeleteResult at 0x1bc9c87d988>"
      ]
     },
     "execution_count": 21,
     "metadata": {},
     "output_type": "execute_result"
    }
   ],
   "source": [
    "sentiment_db = mydb[\"SENTIMENT_DAILYNEWS_API\"]\n",
    "sentiment_db.delete_many({})"
   ]
  },
  {
   "cell_type": "code",
   "execution_count": 22,
   "metadata": {},
   "outputs": [
    {
     "name": "stdout",
     "output_type": "stream",
     "text": [
      "Round: 548\n",
      "{'Category': 'Politic', 'timestamp': Timestamp('2020-11-09 18:03:41.276000'), 'URL': 'https://www.dailynews.co.th/politics/789028', 'headline': \"'นันทเดช'ปลุก'กปปส.'คืนชีพ เป่านกหวีดชุมนุม10ส.ค.\", 'newsdate': Timestamp('2020-08-09 14:20:00'), 'newsdate_date': '2020-08-09', 'totalView': 171600, 'totalShare': 425, 'share_fb': 142, 'share_tw': 164, 'share_gp': 119, 'text': 'เมื่อวันที่ 9 ส.ค.เพจเฟซบุ๊ก พล.ท.นันทเดช เมฆสวัสดิ์ อดีตกรรมการบริหารพรรครวมพลังประชาชาติไทย (รปช.) อดีตแนวร่วม กปปส. และอดีตหัวหน้าศูนย์ปฏิบัติการพิเศษ ศูนย์รักษาความปลอดภัยแห่งชาติ (ศรภ.) ได้โพสต์ข้อความลงบนเฟซบุ๊กส่วนตัว ระบุว่า \"ขอเชิญทุกอาชีพ มากันเอง ออกตังค์เอง แบบเดิมๆ ที่หน้ารัฐสภาใหม่ครับ ทำกิจกรรมสันติวิธี วันจันทร์ที่ 10 เวลา 10.10 น.\"\\n\\n\\n\\nนอกจากนี้ พล.ท.นันทเดช ยังโพสต์ภาพพร้อมข้อความ ของ ศูนย์กลางประสานนักศึกษา อาชีวะ ประชาชนปกป้องสถาบันฯ หรือ ศอปส. ที่ระบุว่า 10 สิงหาคม ขอเชิญชวนพ่อแม่พี่น้องและเยาวชนทุกท่าน ร่วมกันปกป้อง ชาติ ศาสนา พระมหากษัตริย์ เพื่อแสดงจุดยืนต่อต้านแกนนำที่ปราศรัยหมิ่นสถาบันชาติ และร่วมกันแสดงความรักต่อสถาบันฯ กับบรรดาเหล่าเยาวชน อนาคตของชาติ ณ หน้ารัฐสภา 10.10 น.\"\\n\\nพล.ท.นันทเดช ยังได้ระบุด้วยว่า\\xa0 ปัจจุบันผมได้ลาออกจาก พรรครวมพลังประชาติไทย แล้ว แต่ตั้งใจว่า จะลาออกแบบเงียบๆ ดังนั้นการกระทำต่อไปของผมจึงไม่เกี่ยวข้องกับพรรค รปช.อีก เดี๋ยวพรรคเค้าจะเสียหายครับ จึงเรียนมาเพื่อทราบ.\\n\\nขอบคุณภาพและข้อความจากเพจ พลโท นันทเดช เมฆสวัสดิ์', 'hl_sentiment_score': 0.0, 'hl_polarity': '', 'hl_neg_kw': [], 'hl_pos_kw': [], 't_sentiment_score': 66.67, 't_polarity': 'positive', 't_neg_kw': ['ต่อต้าน', 'หมิ่น', 'ลาออก', 'ลาออก', 'เสียหาย'], 't_pos_kw': ['พิเศษ', 'รักษาความปลอดภัย', 'ปกป้อง', 'ปกป้อง', 'ตั้งใจ', 'ขอบคุณ'], 'dateDiff': 77.0, 'avg_share_per_day': 5.51948051948052, 'avg_view_per_day': 2228.5714285714284}\n"
     ]
    }
   ],
   "source": [
    "error_elem_h,error_elem_t = [],[]\n",
    "apilist_header = []\n",
    "\n",
    "for i,e in enumerate(df_plotViz.URL,0):\n",
    "    print('Round:',i)\n",
    "    df_process = df_plotViz.iloc[i].copy().fillna(0)\n",
    "    h_data,t_data = {'text':df_process.headline.replace('%', '').encode('utf-8')},{'text':df_process.text.replace('%', '').encode('utf-8')}\n",
    "    try:\n",
    "        h_response = requests.post(url, data=h_data, headers=headers)\n",
    "        h_score = h_response.json()['sentiment']['score']\n",
    "        h_polarity = h_response.json()['sentiment']['polarity']\n",
    "        h_neg_kw = h_response.json()['preprocess']['neg']\n",
    "        h_pos_kw = h_response.json()['preprocess']['pos']\n",
    "        df_process.hl_sentiment_score,df_process.hl_polarity,df_process.hl_neg_kw,df_process.hl_pos_kw = h_score, h_polarity, h_neg_kw, h_pos_kw\n",
    "        #time.sleep(postNumSleep)\n",
    "    except:\n",
    "        error_elem_h.append(i)\n",
    "    ####\n",
    "    try:\n",
    "        t_response = requests.post(url, data=t_data, headers=headers)\n",
    "        t_score = t_response.json()['sentiment']['score']\n",
    "        t_polarity = t_response.json()['sentiment']['polarity']\n",
    "        t_neg_kw = t_response.json()['preprocess']['neg']\n",
    "        t_pos_kw = t_response.json()['preprocess']['pos']\n",
    "        df_process.t_sentiment_score,df_process.t_polarity,df_process.t_neg_kw,df_process.t_pos_kw = t_score, t_polarity, t_neg_kw, t_pos_kw\n",
    "        #time.sleep(postNumSleep)\n",
    "    except:\n",
    "        error_elem_t.append(i)\n",
    "    process_data = create_ListofDict_InsertOne(df_process)\n",
    "    print(process_data)\n",
    "    sentiment_db.insert_one(process_data)\n",
    "    time.sleep(postNumSleep)\n",
    "    clear_output(wait=True)"
   ]
  },
  {
   "cell_type": "code",
   "execution_count": 23,
   "metadata": {},
   "outputs": [
    {
     "name": "stdout",
     "output_type": "stream",
     "text": [
      "Error in h: [] Error in t []\n"
     ]
    }
   ],
   "source": [
    "# Element รันมือเพื่อตามเก็บ\n",
    "print('Error in h:',error_elem_h,'Error in t',error_elem_t)"
   ]
  },
  {
   "cell_type": "raw",
   "metadata": {},
   "source": [
    "Error in h: [57, 704, 713] Error in t [22, 57, 124, 174, 176, 178, 202, 235, 258, 291, 309, 322, 332, 343, 574, 584, 641, 704, 705, 732, 759, 766, 774, 827, 853, 859, 924, 950, 976, 978]"
   ]
  },
  {
   "cell_type": "raw",
   "metadata": {
    "scrolled": true
   },
   "source": [
    "# 57, 704, 713\n",
    "\n",
    "i = 978\n",
    "df_process = df_plotViz.iloc[i].copy().fillna(0)\n",
    "\n",
    "h_data = {'text':df_process.headline.replace('%', '').encode('utf-8')}\n",
    "h_response = requests.post(url, data=h_data, headers=headers)\n",
    "h_score = h_response.json()['sentiment']['score']\n",
    "h_polarity = h_response.json()['sentiment']['polarity']\n",
    "h_neg_kw = h_response.json()['preprocess']['neg']\n",
    "h_pos_kw = h_response.json()['preprocess']['pos']\n",
    "df_process.hl_sentiment_score,df_process.hl_polarity,df_process.hl_neg_kw,df_process.hl_pos_kw = h_score, h_polarity, h_neg_kw, h_pos_kw\n",
    "\n",
    "t_data = {'text':df_process.text.replace('%', '').encode('utf-8')}\n",
    "t_response = requests.post(url, data=t_data, headers=headers)\n",
    "t_score = t_response.json()['sentiment']['score']\n",
    "t_polarity = t_response.json()['sentiment']['polarity']\n",
    "t_neg_kw = t_response.json()['preprocess']['neg']\n",
    "t_pos_kw = t_response.json()['preprocess']['pos']\n",
    "df_process.t_sentiment_score,df_process.t_polarity,df_process.t_neg_kw,df_process.t_pos_kw = t_score, t_polarity, t_neg_kw, t_pos_kw\n",
    "\n",
    "process_data = create_ListofDict_InsertOne(df_process)\n",
    "sentiment_db.insert_one(process_data)"
   ]
  },
  {
   "cell_type": "markdown",
   "metadata": {},
   "source": [
    "### "
   ]
  },
  {
   "cell_type": "raw",
   "metadata": {},
   "source": [
    "cursor_sentiment_db = sentiment_db.find()\n",
    "df_sentiment_db = pd.DataFrame(cursor_sentiment_db).fillna('')"
   ]
  },
  {
   "cell_type": "raw",
   "metadata": {
    "scrolled": true
   },
   "source": [
    "df_sentiment_db"
   ]
  },
  {
   "cell_type": "raw",
   "metadata": {},
   "source": [
    "_cat_ratio = df_sentiment_db.groupby(['hl_polarity','Category']).agg({'headline': lambda x: len(x)}).reset_index('Category')"
   ]
  },
  {
   "cell_type": "raw",
   "metadata": {},
   "source": [
    "_cat_ratio"
   ]
  }
 ],
 "metadata": {
  "kernelspec": {
   "display_name": "Python 3",
   "language": "python",
   "name": "python3"
  },
  "language_info": {
   "codemirror_mode": {
    "name": "ipython",
    "version": 3
   },
   "file_extension": ".py",
   "mimetype": "text/x-python",
   "name": "python",
   "nbconvert_exporter": "python",
   "pygments_lexer": "ipython3",
   "version": "3.7.3"
  }
 },
 "nbformat": 4,
 "nbformat_minor": 2
}
