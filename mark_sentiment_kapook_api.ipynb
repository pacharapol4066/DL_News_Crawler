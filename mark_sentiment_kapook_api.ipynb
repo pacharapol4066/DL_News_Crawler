{
 "cells": [
  {
   "cell_type": "code",
   "execution_count": 1,
   "metadata": {},
   "outputs": [],
   "source": [
    "import numpy as np\n",
    "import time\n",
    "import math\n",
    "from datetime import datetime\n",
    "from datetime import timedelta\n",
    "import pandas as pd\n",
    "import requests\n",
    "import json\n",
    "import pymongo\n",
    "import itertools"
   ]
  },
  {
   "cell_type": "code",
   "execution_count": 2,
   "metadata": {},
   "outputs": [],
   "source": [
    "from IPython.display import clear_output"
   ]
  },
  {
   "cell_type": "code",
   "execution_count": 3,
   "metadata": {},
   "outputs": [],
   "source": [
    "from matplotlib import pyplot as plt\n",
    "from matplotlib.ticker import MaxNLocator"
   ]
  },
  {
   "cell_type": "code",
   "execution_count": 4,
   "metadata": {},
   "outputs": [],
   "source": [
    "import pythainlp\n",
    "from pythainlp import Tokenizer\n",
    "from pythainlp.util import normalize\n",
    "from pythainlp.tokenize import word_tokenize\n",
    "from pythainlp.corpus.common import thai_words\n",
    "from pythainlp import sent_tokenize\n",
    "from pythainlp.corpus import thai_stopwords"
   ]
  },
  {
   "cell_type": "code",
   "execution_count": 5,
   "metadata": {},
   "outputs": [],
   "source": [
    "def create_ListofDict_InsertOne(df):\n",
    "    info = {\n",
    "            \"Category\": 'Entertain',\n",
    "            \"URL\": df.link,\n",
    "            \"headline\": df.title,\n",
    "            \"newsdate\":df.article_date,\n",
    "            \"totalView\": int(df['view']),\n",
    "            \"totalShare\": int(df.share),\n",
    "            \"text\": df.content_text,\n",
    "            \"hl_sentiment_score\": df.hl_sentiment_score,\n",
    "            \"hl_polarity\": df.hl_polarity,\n",
    "            \"hl_neg_kw\": df.hl_neg_kw,\n",
    "            \"hl_pos_kw\": df.hl_pos_kw,\n",
    "            \"t_sentiment_score\": df.t_sentiment_score,\n",
    "            \"t_polarity\": df.t_polarity,\n",
    "            \"t_neg_kw\": df.t_neg_kw,\n",
    "            \"t_pos_kw\": df.t_pos_kw,\n",
    "            \"dateDiff\": float(df.dateDiff), \n",
    "            \"avg_share_per_day\": float(df.avg_share_per_day),\n",
    "            \"avg_view_per_day\": float(df.avg_view_per_day)\n",
    "    }\n",
    "    return info"
   ]
  },
  {
   "cell_type": "code",
   "execution_count": 6,
   "metadata": {},
   "outputs": [],
   "source": [
    "postNum = 30\n",
    "postNumSleep = math.ceil(60/postNum)\n",
    "\n",
    "url = \"https://api.aiforthai.in.th/ssense\"\n",
    "headers = {\n",
    "    'Apikey': \"ymYbYiJ89ha609Nnv7wuV1CWJFLyCEYo\"\n",
    "    }"
   ]
  },
  {
   "cell_type": "code",
   "execution_count": 7,
   "metadata": {},
   "outputs": [],
   "source": [
    "def plotSentiment_Dist(op, polarity,topic):\n",
    "    t_cat_ratio = op.groupby([polarity,'Category']).agg({topic: lambda x: len(x)}).reset_index('Category')\n",
    "    d_ax1 = t_cat_ratio[t_cat_ratio.Category=='Crime'][topic]\n",
    "    d_ax2 = t_cat_ratio[t_cat_ratio.Category=='Politic'][topic]\n",
    "    d_ax3 = t_cat_ratio[t_cat_ratio.Category=='Entertain'][topic]\n",
    "\n",
    "    bar_label1,bar_label2,bar_label3 = d_ax1.index,d_ax2.index,d_ax3.index\n",
    "\n",
    "    fig, ax = plt.subplots(1, 3, figsize=(15, 5), sharey=True)\n",
    "    ax[0].grid(color='k', linestyle='-', linewidth=0.2)\n",
    "    ax[0].bar(bar_label1, d_ax1)\n",
    "    ax[0].set_xticklabels(d_ax1.index)\n",
    "    ax[0].set_title(f'Sentiment distribution : {topic} - Crime')\n",
    "    ax[0].set_xlabel('Sentiment')\n",
    "    ax[0].set_ylabel('count_news')\n",
    "\n",
    "    ax[1].grid(color='k', linestyle='-', linewidth=0.2)\n",
    "    ax[1].bar(bar_label2, d_ax2)\n",
    "    ax[1].set_xticklabels(d_ax2.index)\n",
    "    ax[1].set_title(f'Sentiment distribution : {topic} - Politic')\n",
    "    ax[1].set_xlabel('Sentiment')\n",
    "    ax[1].set_ylabel('count_news')\n",
    "\n",
    "    ax[2].grid(color='k', linestyle='-', linewidth=0.2)\n",
    "    ax[2].bar(bar_label3, d_ax3)\n",
    "    ax[2].set_xticklabels(d_ax3.index)\n",
    "    ax[2].set_title(f'Sentiment distribution : {topic} - Entertain')\n",
    "    ax[2].set_xlabel('Sentiment')\n",
    "    ax[2].set_ylabel('count_news')\n",
    "\n",
    "    plt.show()"
   ]
  },
  {
   "cell_type": "markdown",
   "metadata": {},
   "source": [
    "### Mark sentiment"
   ]
  },
  {
   "cell_type": "code",
   "execution_count": 8,
   "metadata": {},
   "outputs": [],
   "source": [
    "myclient = pymongo.MongoClient(\"mongodb://localhost:27017/\")\n",
    "mydb = myclient[\"BADS7101\"]\n",
    "q_k_urlList = mydb[\"SENTIMENT_KAPOOK\"]\n",
    "i_k_scrape = mydb[\"SENTIMENT_KAPOOK_API\"]"
   ]
  },
  {
   "cell_type": "code",
   "execution_count": 9,
   "metadata": {},
   "outputs": [],
   "source": [
    "cursor_kp = q_k_urlList.find()\n",
    "cursor_i_kp = i_k_scrape.find()\n",
    "\n",
    "df_kp = pd.DataFrame(cursor_kp)"
   ]
  },
  {
   "cell_type": "code",
   "execution_count": 10,
   "metadata": {
    "scrolled": true
   },
   "outputs": [],
   "source": [
    "df_kp = df_kp[df_kp.taxonomy.isin(['women/ดารา','women','movie/ข่าววงการหนัง','wedding/งานแต่งดารา','movie/Gossip Star(ซุบซิบดารา)'\n",
    "                                                              ,'baby/แม่-ลูกดารา','home/บ้านดารา','drama/ข่าวละคร','musicstation/ข่าววงการเพลง','men/HotGirls'\n",
    "                                                              ,'women/รูปภาพ','men/เกาะติดคนดังชาย','drama','pet/สัตว์เลี้ยงดารา','drama/เรื่องย่อละคร'\n",
    "                                                              ,'women/ผู้หญิงน่ารู้','women/เมนูอาหาร'])]"
   ]
  },
  {
   "cell_type": "code",
   "execution_count": 11,
   "metadata": {
    "scrolled": true
   },
   "outputs": [],
   "source": [
    "current_day = datetime.strptime(str('2020-10-25 23:59:00'), '%Y-%m-%d %H:%M:%S')\n",
    "df_kp['dateDiff']  = df_kp['article_date'].apply(lambda x : current_day - x )\n",
    "df_kp['dateDiff']  = df_kp['dateDiff'].apply(lambda x : x.days)\n",
    "df_kp['avg_share_per_day']  = df_kp['share'] / df_kp['dateDiff']\n",
    "df_kp['avg_view_per_day']  = df_kp['view'] / df_kp['dateDiff']"
   ]
  },
  {
   "cell_type": "code",
   "execution_count": 12,
   "metadata": {},
   "outputs": [
    {
     "data": {
      "text/html": [
       "<div>\n",
       "<style scoped>\n",
       "    .dataframe tbody tr th:only-of-type {\n",
       "        vertical-align: middle;\n",
       "    }\n",
       "\n",
       "    .dataframe tbody tr th {\n",
       "        vertical-align: top;\n",
       "    }\n",
       "\n",
       "    .dataframe thead th {\n",
       "        text-align: right;\n",
       "    }\n",
       "</style>\n",
       "<table border=\"1\" class=\"dataframe\">\n",
       "  <thead>\n",
       "    <tr style=\"text-align: right;\">\n",
       "      <th></th>\n",
       "      <th>view</th>\n",
       "      <th>share</th>\n",
       "      <th>image_count</th>\n",
       "      <th>share/view</th>\n",
       "      <th>dateDiff</th>\n",
       "      <th>avg_share_per_day</th>\n",
       "      <th>avg_view_per_day</th>\n",
       "    </tr>\n",
       "  </thead>\n",
       "  <tbody>\n",
       "    <tr>\n",
       "      <th>count</th>\n",
       "      <td>4857.000000</td>\n",
       "      <td>4857.000000</td>\n",
       "      <td>4857.000000</td>\n",
       "      <td>4857.000000</td>\n",
       "      <td>4857.000000</td>\n",
       "      <td>4857.000000</td>\n",
       "      <td>4857.000000</td>\n",
       "    </tr>\n",
       "    <tr>\n",
       "      <th>mean</th>\n",
       "      <td>24533.561458</td>\n",
       "      <td>624.385217</td>\n",
       "      <td>4.436895</td>\n",
       "      <td>0.026940</td>\n",
       "      <td>149.044678</td>\n",
       "      <td>7.603696</td>\n",
       "      <td>370.602752</td>\n",
       "    </tr>\n",
       "    <tr>\n",
       "      <th>std</th>\n",
       "      <td>22935.930800</td>\n",
       "      <td>3141.944345</td>\n",
       "      <td>2.612340</td>\n",
       "      <td>0.092214</td>\n",
       "      <td>86.396944</td>\n",
       "      <td>37.121299</td>\n",
       "      <td>839.168889</td>\n",
       "    </tr>\n",
       "    <tr>\n",
       "      <th>min</th>\n",
       "      <td>378.000000</td>\n",
       "      <td>0.000000</td>\n",
       "      <td>0.000000</td>\n",
       "      <td>0.000000</td>\n",
       "      <td>1.000000</td>\n",
       "      <td>0.000000</td>\n",
       "      <td>7.678082</td>\n",
       "    </tr>\n",
       "    <tr>\n",
       "      <th>25%</th>\n",
       "      <td>10832.000000</td>\n",
       "      <td>85.000000</td>\n",
       "      <td>3.000000</td>\n",
       "      <td>0.004611</td>\n",
       "      <td>73.000000</td>\n",
       "      <td>0.664234</td>\n",
       "      <td>69.878378</td>\n",
       "    </tr>\n",
       "    <tr>\n",
       "      <th>50%</th>\n",
       "      <td>17769.000000</td>\n",
       "      <td>174.000000</td>\n",
       "      <td>4.000000</td>\n",
       "      <td>0.010531</td>\n",
       "      <td>145.000000</td>\n",
       "      <td>1.512438</td>\n",
       "      <td>144.421569</td>\n",
       "    </tr>\n",
       "    <tr>\n",
       "      <th>75%</th>\n",
       "      <td>30205.000000</td>\n",
       "      <td>411.000000</td>\n",
       "      <td>5.000000</td>\n",
       "      <td>0.023529</td>\n",
       "      <td>227.000000</td>\n",
       "      <td>3.780488</td>\n",
       "      <td>320.980198</td>\n",
       "    </tr>\n",
       "    <tr>\n",
       "      <th>max</th>\n",
       "      <td>351844.000000</td>\n",
       "      <td>100735.000000</td>\n",
       "      <td>49.000000</td>\n",
       "      <td>3.772442</td>\n",
       "      <td>299.000000</td>\n",
       "      <td>1024.777778</td>\n",
       "      <td>16818.666667</td>\n",
       "    </tr>\n",
       "  </tbody>\n",
       "</table>\n",
       "</div>"
      ],
      "text/plain": [
       "                view          share  image_count   share/view     dateDiff  \\\n",
       "count    4857.000000    4857.000000  4857.000000  4857.000000  4857.000000   \n",
       "mean    24533.561458     624.385217     4.436895     0.026940   149.044678   \n",
       "std     22935.930800    3141.944345     2.612340     0.092214    86.396944   \n",
       "min       378.000000       0.000000     0.000000     0.000000     1.000000   \n",
       "25%     10832.000000      85.000000     3.000000     0.004611    73.000000   \n",
       "50%     17769.000000     174.000000     4.000000     0.010531   145.000000   \n",
       "75%     30205.000000     411.000000     5.000000     0.023529   227.000000   \n",
       "max    351844.000000  100735.000000    49.000000     3.772442   299.000000   \n",
       "\n",
       "       avg_share_per_day  avg_view_per_day  \n",
       "count        4857.000000       4857.000000  \n",
       "mean            7.603696        370.602752  \n",
       "std            37.121299        839.168889  \n",
       "min             0.000000          7.678082  \n",
       "25%             0.664234         69.878378  \n",
       "50%             1.512438        144.421569  \n",
       "75%             3.780488        320.980198  \n",
       "max          1024.777778      16818.666667  "
      ]
     },
     "execution_count": 12,
     "metadata": {},
     "output_type": "execute_result"
    }
   ],
   "source": [
    "df_kp.describe()"
   ]
  },
  {
   "cell_type": "code",
   "execution_count": 13,
   "metadata": {},
   "outputs": [],
   "source": [
    "df_plotViz = df_kp.copy()"
   ]
  },
  {
   "cell_type": "code",
   "execution_count": 14,
   "metadata": {},
   "outputs": [],
   "source": [
    "df_plotViz.drop('_id', axis=1,inplace=True)"
   ]
  },
  {
   "cell_type": "code",
   "execution_count": 15,
   "metadata": {},
   "outputs": [
    {
     "data": {
      "text/plain": [
       "(457, 16)"
      ]
     },
     "execution_count": 15,
     "metadata": {},
     "output_type": "execute_result"
    }
   ],
   "source": [
    "mind = datetime.strptime(str('2020-07-01 00:00:00'), '%Y-%m-%d %H:%M:%S')\n",
    "maxd = datetime.strptime(str('2020-10-24 23:59:00'), '%Y-%m-%d %H:%M:%S')\n",
    "# เอาเฉพาะ avg_share_per_day สูงกว่า mean หมวดข่าวนั้น\n",
    "df_plotViz = df_plotViz[(df_plotViz.avg_share_per_day>=7.603696)&(df_plotViz.article_date>=mind)&(df_plotViz.article_date<=maxd)]\n",
    "df_plotViz.shape"
   ]
  },
  {
   "cell_type": "code",
   "execution_count": 16,
   "metadata": {},
   "outputs": [],
   "source": [
    "df_plotViz.insert(13,'hl_sentiment_score',value=None)\n",
    "df_plotViz.insert(14,'hl_polarity',value=None)\n",
    "df_plotViz.insert(15,'hl_neg_kw',value=None)\n",
    "df_plotViz.insert(16,'hl_pos_kw',value=None)\n",
    "df_plotViz.insert(17,'t_sentiment_score',value=None)\n",
    "df_plotViz.insert(18,'t_polarity',value=None)\n",
    "df_plotViz.insert(19,'t_neg_kw',value=None)\n",
    "df_plotViz.insert(20,'t_pos_kw',value=None)"
   ]
  },
  {
   "cell_type": "code",
   "execution_count": 17,
   "metadata": {},
   "outputs": [
    {
     "data": {
      "text/plain": [
       "<pymongo.results.DeleteResult at 0x26008ce9c88>"
      ]
     },
     "execution_count": 17,
     "metadata": {},
     "output_type": "execute_result"
    }
   ],
   "source": [
    "sentiment_db = mydb[\"SENTIMENT_KAPOOK_API\"]\n",
    "sentiment_db.delete_many({})"
   ]
  },
  {
   "cell_type": "code",
   "execution_count": 18,
   "metadata": {},
   "outputs": [
    {
     "name": "stdout",
     "output_type": "stream",
     "text": [
      "Round: 456\n",
      "{'Category': 'Entertain', 'URL': 'https://women.kapook.com/view232781.html', 'headline': 'หนูเล็ก ก่อนบ่าย ร้องให้ลูกเข้าโรงเรียนวันแรก เครียด น้องวิน แพ้เพิ่มทุกวัน', 'newsdate': Timestamp('2020-10-24 04:16:31'), 'totalView': 9735, 'totalShare': 452, 'text': 'หนูเล็ก ก่อนบ่าย เกาะรั้วร้องไห้ส่ง น้องวินเข้าโรงเรียนวันแรก พร้อมอัปเดตอาการแพ้ของลูก หนักขึ้นทุกวัน แต่ยังโชคดีที่ทานปลาสลิดได้ หวังอนาคตลูกจะหายดีเป็นปกติ ปกติก็เป็นคนเซนซิทีฟอยู่แล้วสําหรับคุณแม่สายฮา หนูเล็ก ก่อนบ่าย ยิ่งต้องส่งลูกเข้าโรงเรียนวันแรก ตัวเองถึงกับต้องเกาะรั้วร้องไห้ พร้อมอัปเดตอาการแพ้ของน้องวิน ลูกชาย ที่ทําเอาหัวอกคนเป็นแม่ถึงกับปวดใจ เมื่อลูกอยากกินอะไร แล้วต้องบอกว่า กินไม่ได้เพราะลูกแพ้หนัก ล่าสุด (23 ตุลาคม 2563) วันบันเทิง เผยบทสัมภาษณ์ หนูเล็ก ที่ได้มาอัพเดตพัฒนาการของน้องวิน ลูกชายวัย 1 ขวบ 7 เดือน ว่าตอนนี้พาเข้าโรงเรียนเรียบร้อยแล้ว และเมื่อวันที่ 20 ตุลาคม ที่ผ่านมา ก็เป็นวันแรกที่ลูกชายอยู่ที่โรงเรียนคนเดียว โดยที่ไม่มีพ่อแม่อยู่ด้วย เพราะก่อนหน้านี้พ่อกับแม่เข้าไปอยู่ในห้องเรียนกับลูกมาแล้ว 2 เดือน ปรากฏว่าวันแรกที่ไม่ได้อยู่ด้วยกับลูก หนูเล็กบอกว่า ตนถึงกับร้องไห้ออกมา เข้าใจความรู้สึกที่คนอื่นไปยืนหลังกําแพง ก็เลย โทร. ไปบอกผู้บริหารว่าช่วยเอากําแพงออกได้ไหม คือ กําแพงนี้มันขลังมาก ถ้าเกิดว่าใครที่ไปอยู่หลังกําแพงจะรู้สึกได้เลยว่าสงสารลูก คิดถึงลูก เรื่องสถานที่เรียน ตนไม่ห่วงเลยเพราะเลือกให้ลูกอย่างดีและอยู่ใกล้บ้าน แล้วที่นี่เขาใส่ใจผู้ปกครองมาก ๆ น่ารักมาก ก็เลยภูมิใจ ฝากได้ไม่ห่วง ส่วนน้องวินวันแรกไม่ร้องเลย นั่งเล่นกับคุณครู น้องเก่งตนภูมิใจมาก ส่วนอาการแพ้ของน้องนั้น เนื่องจากน้องวินแพ้ทุกอย่าง ตนเลยต้องเตรียมทุกอย่างไป กระทั่งของกินเล่น แม้กระทั่งนมเพราะน้องวินจะไปกินของคนอื่นในโรงเรียนไม่ได้ กินไม่ได้เลย กระทั่งฝุ่นหรืออะไรสกปรก ก็คือแพ้หมดเลย นมวัว ถั่ว ไข่ กล้วย ปลาแซลมอล แพ้หมด ซึ่งทางโรงเรียนก็น่ารัก รู้ว่าน้องวินแพ้หนักเลยทําให้น้องวินเป็นพิเศษ ทําให้ทุกอย่างเลย น่ารักมาก เขาไปคัดสรรให้อย่างดีเลย อาการแพ้มีโอกาสหายหรือไม่นั้น ลูกคนอื่นหมอบอกว่ามีโอกาสหาย แต่น้องวินไปเช็กมาแล้ว แพ้เพิ่มขึ้นทุกอัน ต้องรอดูครบ 2 ขวบ จะไปเช็กอีกทีว่าลดบ้างไหม ถามว่าเครียดไหม เครียดมาก หากว่าลูกไปตรวจรอบ 2 ยังไม่หายอาจจะร้องไห้อัดคลิปลงไอจี (หัวเราะ) ทุกวันนี้น้องวินกินนมสําหรับเด็กแพ้ เพราะนมวัว นมแพะ นมควายกินไม่ได้เลย นมแม่ก็กินไม่ได้ เพราะว่าแม่ต้องไปทํางานต้องกินต้องกินนู่นกินนี่ แม่ก็เลยงดเลย ต้องกินนมสําหรับเด็กแพ้โดยเฉพาะเท่านั้น ส่วนอาหารน้องทานปลาสลิดได้ ถ้าอนาคตน้องโตขึ้นและโลกใบนี้ยังมีปลาสลิดอยู่ ตนก็หายห่วงแล้ว (หัวเราะ)\\u200b\\u200b\\u200b\\u200b\\u200b\\u200b\\u200b อย่างไรก็ตาม ตนอยากให้น้องวินหาย เหมือนที่น้องปราง 3 ขวบแล้วหาย เพราะสงสารลูก อย่างตอนตนอัดคลิปที่น้องวินไปสนามบินแล้วอยากกินนู่นกินนี่ แล้วตนบอกว่ากินไม่ได้ลูกแพ้ น้องก็พูดว่าแพ้ คือหัวอกคนเป็นแม่สงสารลูก ถ้าลูกกินอะไรได้ หนูร้องไห้แน่ ๆ ขอบคุณข้อมูลจาก เฟซบุ๊ก วันบันเทิง - oneบันเทิงภาพจาก เฟซบุ๊ก วันบันเทิง - oneบันเทิง, Instagram nulek_gaga อ่านเนื้อหาเต็มของอัลบั้มนี้หนูเล็ก ใจจะขาด ลูกเข้าโรงเรียนวันแรก เครียด น้องวิน แพ้เพิ่มทุกวัน โดยไม่ทราบสาเหตุประเด็นที่เกี่ยวข้อง :หนูเล็ก ก่อนบ่ายลูกดาราไทย', 'hl_sentiment_score': '85.71', 'hl_polarity': 'negative', 'hl_neg_kw': ['เครียด', 'แพ้'], 'hl_pos_kw': [], 't_sentiment_score': '100', 't_polarity': 'negative', 't_neg_kw': ['ร้องไห้', 'แพ้', 'หนัก', 'หาย', 'เซนซิทีฟ', 'ร้องไห้', 'แพ้', 'ปวดใจ', 'ไม่ได้', 'แพ้', 'หนัก', 'ไม่ได้', 'ร้องไห้', 'แพง', 'แพง', 'แพง', 'แพง', 'สงสาร', 'ไม่ห่วง', 'ไม่ห่วง', 'แพ้', 'แพ้', 'ไม่ได้', 'ไม่ได้เลย', 'สกปรก', 'แพ้', 'แพ้', 'แพ้', 'หนัก', 'แพ้', 'หาย', 'หาย', 'แพ้', 'เครียด', 'เครียด', 'ไม่หาย', 'ร้องไห้', 'แพ้', 'ไม่ได้เลย', 'ไม่ได้', 'แพ้', 'หาย', 'หาย', 'สงสาร', 'ไม่ได้', 'แพ้', 'แพ้', 'สงสาร', 'ร้องไห้', 'ใจจะขาด', 'เครียด', 'แพ้'], 't_pos_kw': ['โชคดี', 'ดี', 'ฮา', 'เข้าใจ', 'คิดถึง', 'อย่างดี', 'ใส่ใจ', 'น่ารัก', 'ภูมิใจ', 'เก่ง', 'ภูมิใจ', 'น่ารัก', 'เป็นพิเศษ', 'น่ารัก', 'อย่างดี', 'มีโอกาส', 'มีโอกาส', 'หัวเราะ', 'หายห่วง', 'หัวเราะ', 'ขอบคุณ'], 'dateDiff': 1.0, 'avg_share_per_day': 452.0, 'avg_view_per_day': 9735.0}\n"
     ]
    }
   ],
   "source": [
    "error_elem_h,error_elem_t = [],[]\n",
    "apilist_header = []\n",
    "\n",
    "for i,e in enumerate(df_plotViz.link,0):\n",
    "    print('Round:',i)\n",
    "    df_process = df_plotViz.iloc[i].copy().fillna('')\n",
    "    h_data,t_data = {'text':df_process.title.replace('%', '').encode('utf-8')},{'text':df_process.content_text.replace('%', '').encode('utf-8')}\n",
    "    try:\n",
    "        h_response = requests.post(url, data=h_data, headers=headers)\n",
    "        h_score = h_response.json()['sentiment']['score']\n",
    "        h_polarity = h_response.json()['sentiment']['polarity']\n",
    "        h_neg_kw = h_response.json()['preprocess']['neg']\n",
    "        h_pos_kw = h_response.json()['preprocess']['pos']\n",
    "        df_process.hl_sentiment_score,df_process.hl_polarity,df_process.hl_neg_kw,df_process.hl_pos_kw = h_score, h_polarity, h_neg_kw, h_pos_kw\n",
    "    except:\n",
    "        error_elem_h.append(i)\n",
    "    ####\n",
    "    try:\n",
    "        t_response = requests.post(url, data=t_data, headers=headers)\n",
    "        t_score = t_response.json()['sentiment']['score']\n",
    "        t_polarity = t_response.json()['sentiment']['polarity']\n",
    "        t_neg_kw = t_response.json()['preprocess']['neg']\n",
    "        t_pos_kw = t_response.json()['preprocess']['pos']\n",
    "        df_process.t_sentiment_score,df_process.t_polarity,df_process.t_neg_kw,df_process.t_pos_kw = t_score, t_polarity, t_neg_kw, t_pos_kw\n",
    "    except:\n",
    "        error_elem_t.append(i)\n",
    "    process_data = create_ListofDict_InsertOne(df_process)\n",
    "    print(process_data)\n",
    "    sentiment_db.insert_one(process_data)\n",
    "    time.sleep(postNumSleep)\n",
    "    clear_output(wait=True)"
   ]
  },
  {
   "cell_type": "code",
   "execution_count": 19,
   "metadata": {},
   "outputs": [
    {
     "name": "stdout",
     "output_type": "stream",
     "text": [
      "Error in h: [] Error in t []\n"
     ]
    }
   ],
   "source": [
    "# Element รันมือเพื่อตามเก็บ\n",
    "print('Error in h:',error_elem_h,'Error in t',error_elem_t)"
   ]
  },
  {
   "cell_type": "raw",
   "metadata": {},
   "source": [
    "i = 601\n",
    "df_process = df_plotViz.iloc[i].copy().fillna('')\n",
    "\n",
    "t_data = {'text':df_process.content_text.replace('%', '').encode('utf-8')}\n",
    "t_response = requests.post(url, data=t_data, headers=headers)\n",
    "t_score = t_response.json()['sentiment']['score']\n",
    "t_polarity = t_response.json()['sentiment']['polarity']\n",
    "t_neg_kw = t_response.json()['preprocess']['neg']\n",
    "t_pos_kw = t_response.json()['preprocess']['pos']\n",
    "df_process.t_sentiment_score,df_process.t_polarity,df_process.t_neg_kw,df_process.t_pos_kw = t_score, t_polarity, t_neg_kw, t_pos_kw\n",
    "process_data = create_ListofDict_InsertOne(df_process)\n",
    "sentiment_db.insert_one(process_data)"
   ]
  },
  {
   "cell_type": "markdown",
   "metadata": {},
   "source": [
    "### "
   ]
  },
  {
   "cell_type": "raw",
   "metadata": {},
   "source": [
    "cursor_sentiment_db = sentiment_db.find()\n",
    "df_sentiment_db = pd.DataFrame(cursor_sentiment_db)"
   ]
  },
  {
   "cell_type": "raw",
   "metadata": {},
   "source": [
    "plotSentiment_Dist(df_sentiment_db, 'hl_polarity', 'headline')"
   ]
  },
  {
   "cell_type": "raw",
   "metadata": {},
   "source": [
    "plotSentiment_Dist(df_sentiment_db, 't_polarity', 'text')"
   ]
  }
 ],
 "metadata": {
  "kernelspec": {
   "display_name": "Python 3",
   "language": "python",
   "name": "python3"
  },
  "language_info": {
   "codemirror_mode": {
    "name": "ipython",
    "version": 3
   },
   "file_extension": ".py",
   "mimetype": "text/x-python",
   "name": "python",
   "nbconvert_exporter": "python",
   "pygments_lexer": "ipython3",
   "version": "3.7.3"
  }
 },
 "nbformat": 4,
 "nbformat_minor": 2
}
