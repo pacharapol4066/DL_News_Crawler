{
 "cells": [
  {
   "cell_type": "code",
   "execution_count": null,
   "metadata": {},
   "outputs": [],
   "source": [
    "import numpy as np\n",
    "import time\n",
    "from datetime import datetime\n",
    "from datetime import timedelta\n",
    "import pandas as pd\n",
    "import json\n",
    "import pymongo\n",
    "import itertools"
   ]
  },
  {
   "cell_type": "code",
   "execution_count": null,
   "metadata": {},
   "outputs": [],
   "source": [
    "import pythainlp\n",
    "from pythainlp import Tokenizer\n",
    "from pythainlp.util import normalize\n",
    "from pythainlp.tokenize import word_tokenize\n",
    "from pythainlp.corpus.common import thai_words\n",
    "from pythainlp import sent_tokenize\n",
    "from pythainlp.corpus import thai_stopwords\n",
    "from pythainlp.util import dict_trie\n",
    "from pythainlp.tag import pos_tag"
   ]
  },
  {
   "cell_type": "code",
   "execution_count": null,
   "metadata": {},
   "outputs": [],
   "source": [
    "myclient = pymongo.MongoClient(\"mongodb://localhost:27017/\")\n",
    "mydb = myclient[\"BADS7101\"]\n",
    "q_c_urlList = mydb[\"URL_LIST_CRIME\"]\n",
    "i_c_scrape = mydb[\"CRIME_NEWS\"]\n",
    "\n",
    "q_p_urlList = mydb[\"URL_LIST_POLITIC\"]\n",
    "i_p_scrape = mydb[\"POLITIC_NEWS_U\"]\n",
    "\n",
    "\n",
    "q_e_urlList = mydb[\"URL_LIST_ENTER\"]\n",
    "i_e_scrape = mydb[\"ENTERTAIN_NEWS\"]"
   ]
  },
  {
   "cell_type": "code",
   "execution_count": null,
   "metadata": {},
   "outputs": [],
   "source": [
    "cursor_crime = q_c_urlList.find()\n",
    "cursor_crime_s = i_c_scrape.find()\n",
    "\n",
    "df_crime_url = pd.DataFrame(cursor_crime)\n",
    "df_crime_detail = pd.DataFrame(cursor_crime_s)\n",
    "df_crime_join = pd.merge(df_crime_url,df_crime_detail,how=\"inner\",on=['URL'])\n",
    "df_crime_join.insert(0,'Category',value='Crime')"
   ]
  },
  {
   "cell_type": "code",
   "execution_count": null,
   "metadata": {},
   "outputs": [],
   "source": [
    "cursor_pol = q_p_urlList.find()\n",
    "cursor_pol_s = i_p_scrape.find()\n",
    "\n",
    "df_pol_url = pd.DataFrame(cursor_pol)\n",
    "df_pol_detail = pd.DataFrame(cursor_pol_s)\n",
    "df_pol_join = pd.merge(df_pol_url,df_pol_detail,how=\"inner\",on=['URL'])\n",
    "df_pol_join.insert(0,'Category',value='Politic')"
   ]
  },
  {
   "cell_type": "code",
   "execution_count": null,
   "metadata": {},
   "outputs": [],
   "source": [
    "cursor_ent = q_e_urlList.find()\n",
    "cursor_ent_s = i_e_scrape.find()\n",
    "\n",
    "df_ent_url = pd.DataFrame(cursor_ent)\n",
    "df_ent_detail = pd.DataFrame(cursor_ent_s)\n",
    "df_ent_join = pd.merge(df_ent_url,df_ent_detail,how=\"inner\",on=['URL'])\n",
    "df_ent_join.insert(0,'Category',value='Entertain')"
   ]
  },
  {
   "cell_type": "code",
   "execution_count": null,
   "metadata": {},
   "outputs": [],
   "source": [
    "df_plotViz = pd.concat([df_crime_join,df_pol_join,df_ent_join],ignore_index=True)"
   ]
  },
  {
   "cell_type": "code",
   "execution_count": null,
   "metadata": {},
   "outputs": [],
   "source": [
    "df_plotViz.insert(6,'newsdate_date',value=None)\n",
    "df_plotViz['newsdate_date'] = df_plotViz['newsdate'].dt.date"
   ]
  },
  {
   "cell_type": "code",
   "execution_count": null,
   "metadata": {},
   "outputs": [],
   "source": []
  }
 ],
 "metadata": {
  "kernelspec": {
   "display_name": "Python 3",
   "language": "python",
   "name": "python3"
  },
  "language_info": {
   "codemirror_mode": {
    "name": "ipython",
    "version": 3
   },
   "file_extension": ".py",
   "mimetype": "text/x-python",
   "name": "python",
   "nbconvert_exporter": "python",
   "pygments_lexer": "ipython3",
   "version": "3.7.3"
  }
 },
 "nbformat": 4,
 "nbformat_minor": 2
}
