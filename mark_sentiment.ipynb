{
 "cells": [
  {
   "cell_type": "code",
   "execution_count": 1,
   "metadata": {},
   "outputs": [],
   "source": [
    "import numpy as np\n",
    "import time\n",
    "import math\n",
    "from datetime import datetime\n",
    "from datetime import timedelta\n",
    "import pandas as pd\n",
    "import requests\n",
    "import json\n",
    "import pymongo\n",
    "import itertools"
   ]
  },
  {
   "cell_type": "code",
   "execution_count": 2,
   "metadata": {},
   "outputs": [],
   "source": [
    "from matplotlib import rcParams\n",
    "rcParams['font.family'] = 'sans-serif'\n",
    "rcParams['font.sans-serif'] = ['Tahoma']"
   ]
  },
  {
   "cell_type": "code",
   "execution_count": 3,
   "metadata": {},
   "outputs": [],
   "source": [
    "from matplotlib import pyplot as plt\n",
    "from matplotlib.ticker import MaxNLocator"
   ]
  },
  {
   "cell_type": "code",
   "execution_count": 4,
   "metadata": {},
   "outputs": [],
   "source": [
    "myclient = pymongo.MongoClient(\"mongodb://localhost:27017/\")\n",
    "mydb = myclient[\"BADS7101\"]\n",
    "q_all_urlList = mydb[\"SENTIMENT_ALL_SOURCE\"]\n",
    "q_ka_urlList = mydb[\"SENTIMENT_KAPOOK_API\"]\n",
    "q_da_urlList = mydb[\"SENTIMENT_DAILYNEWS_API\"]"
   ]
  },
  {
   "cell_type": "code",
   "execution_count": 5,
   "metadata": {},
   "outputs": [],
   "source": [
    "cursor_kp = q_ka_urlList.find()\n",
    "cursor_dln = q_da_urlList.find()\n",
    "\n",
    "df_kp = pd.DataFrame(cursor_kp)\n",
    "df_dln = pd.DataFrame(cursor_dln)"
   ]
  },
  {
   "cell_type": "code",
   "execution_count": 6,
   "metadata": {},
   "outputs": [],
   "source": [
    "df_kp['hl_sentiment_score'] = df_kp['hl_sentiment_score'].apply(lambda x: 0 if x == '' else x)\n",
    "df_kp['hl_sentiment_score'] = df_kp['hl_sentiment_score'].apply(lambda x: float(x))\n",
    "df_kp['t_sentiment_score'] = df_kp['t_sentiment_score'].apply(lambda x: 0 if x == '' else x)\n",
    "df_kp['t_sentiment_score'] = df_kp['t_sentiment_score'].apply(lambda x: float(x))"
   ]
  },
  {
   "cell_type": "code",
   "execution_count": 7,
   "metadata": {
    "scrolled": true
   },
   "outputs": [],
   "source": [
    "df_kp = df_kp[['Category', 'URL', 'headline', 'newsdate', 'totalView',\n",
    "       'totalShare', 'text', 'hl_sentiment_score', 'hl_polarity', 'hl_neg_kw',\n",
    "       'hl_pos_kw', 't_sentiment_score', 't_polarity', 't_neg_kw', 't_pos_kw','dateDiff','avg_share_per_day','avg_view_per_day']]\n",
    "df_dln = df_dln[['Category', 'URL', 'headline', 'newsdate', 'totalView', \n",
    "       'totalShare', 'text', 'hl_sentiment_score', 'hl_polarity', 'hl_neg_kw',\n",
    "       'hl_pos_kw', 't_sentiment_score', 't_polarity', 't_neg_kw', 't_pos_kw','dateDiff','avg_share_per_day','avg_view_per_day']]"
   ]
  },
  {
   "cell_type": "code",
   "execution_count": 8,
   "metadata": {
    "scrolled": true
   },
   "outputs": [],
   "source": [
    "df_dln.drop_duplicates(subset='URL', inplace=True, keep='last', ignore_index=True)\n",
    "df_kp.drop_duplicates(subset='URL', inplace=True, keep='last', ignore_index=True)"
   ]
  },
  {
   "cell_type": "code",
   "execution_count": 9,
   "metadata": {
    "scrolled": true
   },
   "outputs": [],
   "source": [
    "df_plotViz = pd.concat([df_kp,df_dln],ignore_index=True)"
   ]
  },
  {
   "cell_type": "code",
   "execution_count": 10,
   "metadata": {
    "scrolled": true
   },
   "outputs": [
    {
     "data": {
      "text/plain": [
       "(1006, 18)"
      ]
     },
     "execution_count": 10,
     "metadata": {},
     "output_type": "execute_result"
    }
   ],
   "source": [
    "df_plotViz.shape"
   ]
  },
  {
   "cell_type": "code",
   "execution_count": 11,
   "metadata": {},
   "outputs": [],
   "source": [
    "df_plotViz['avg_share_per_view'] = df_plotViz['avg_share_per_day']/df_plotViz['avg_view_per_day']\n",
    "df_plotViz['hl_neg_count'] = df_plotViz['hl_neg_kw'].apply(lambda x : len(x))\n",
    "df_plotViz['hl_pos_count'] = df_plotViz['hl_pos_kw'].apply(lambda x : len(x))\n",
    "df_plotViz['t_neg_count'] = df_plotViz['t_neg_kw'].apply(lambda x : len(x))\n",
    "df_plotViz['t_pos_count'] = df_plotViz['t_pos_kw'].apply(lambda x : len(x))"
   ]
  },
  {
   "cell_type": "code",
   "execution_count": 12,
   "metadata": {
    "scrolled": true
   },
   "outputs": [],
   "source": [
    "# Rearrange index\n",
    "dff = pd.DataFrame()\n",
    "df_plotViz = dff.append(df_plotViz,ignore_index=True)"
   ]
  },
  {
   "cell_type": "code",
   "execution_count": 13,
   "metadata": {
    "scrolled": true
   },
   "outputs": [
    {
     "data": {
      "text/html": [
       "<div>\n",
       "<style scoped>\n",
       "    .dataframe tbody tr th:only-of-type {\n",
       "        vertical-align: middle;\n",
       "    }\n",
       "\n",
       "    .dataframe tbody tr th {\n",
       "        vertical-align: top;\n",
       "    }\n",
       "\n",
       "    .dataframe thead th {\n",
       "        text-align: right;\n",
       "    }\n",
       "</style>\n",
       "<table border=\"1\" class=\"dataframe\">\n",
       "  <thead>\n",
       "    <tr style=\"text-align: right;\">\n",
       "      <th></th>\n",
       "      <th>Category</th>\n",
       "      <th>URL</th>\n",
       "      <th>headline</th>\n",
       "      <th>newsdate</th>\n",
       "      <th>totalView</th>\n",
       "      <th>totalShare</th>\n",
       "      <th>text</th>\n",
       "      <th>hl_sentiment_score</th>\n",
       "      <th>hl_polarity</th>\n",
       "      <th>hl_neg_kw</th>\n",
       "      <th>...</th>\n",
       "      <th>t_neg_kw</th>\n",
       "      <th>t_pos_kw</th>\n",
       "      <th>dateDiff</th>\n",
       "      <th>avg_share_per_day</th>\n",
       "      <th>avg_view_per_day</th>\n",
       "      <th>avg_share_per_view</th>\n",
       "      <th>hl_neg_count</th>\n",
       "      <th>hl_pos_count</th>\n",
       "      <th>t_neg_count</th>\n",
       "      <th>t_pos_count</th>\n",
       "    </tr>\n",
       "  </thead>\n",
       "  <tbody>\n",
       "    <tr>\n",
       "      <th>0</th>\n",
       "      <td>Entertain</td>\n",
       "      <td>https://women.kapook.com/view228055.html</td>\n",
       "      <td>เศร้า.. พ่อณรงค์ เตมีรักษ์ คุณพ่อ แต้ว ณฐพร เส...</td>\n",
       "      <td>2020-07-01 11:08:52</td>\n",
       "      <td>58518</td>\n",
       "      <td>2604</td>\n",
       "      <td>คุณพ่อ ณรงค์ เตมีรักษ์ คุณพ่อของ แต้ว ณฐพร เสี...</td>\n",
       "      <td>80.00</td>\n",
       "      <td>negative</td>\n",
       "      <td>[เศร้า, เสียชีวิต]</td>\n",
       "      <td>...</td>\n",
       "      <td>[เสียชีวิต, ประสบอุบัติเหตุ, จน, ประสบอุบัติเห...</td>\n",
       "      <td>[]</td>\n",
       "      <td>116.0</td>\n",
       "      <td>22.448276</td>\n",
       "      <td>504.465517</td>\n",
       "      <td>0.044499</td>\n",
       "      <td>2</td>\n",
       "      <td>0</td>\n",
       "      <td>8</td>\n",
       "      <td>0</td>\n",
       "    </tr>\n",
       "    <tr>\n",
       "      <th>1</th>\n",
       "      <td>Entertain</td>\n",
       "      <td>https://women.kapook.com/view228058.html</td>\n",
       "      <td>เฟี้ยว์ฟ้าว สุดสวิงริงโก้ ไลฟ์โชว์ลอตเตอรี่ ถู...</td>\n",
       "      <td>2020-07-01 12:38:31</td>\n",
       "      <td>39119</td>\n",
       "      <td>3764</td>\n",
       "      <td>อิม เฟี้ยว์ฟ้าว สุดสวิงริงโก้ ไลฟ์โชว์ลอตเตอรี...</td>\n",
       "      <td>75.00</td>\n",
       "      <td>positive</td>\n",
       "      <td>[]</td>\n",
       "      <td>...</td>\n",
       "      <td>[จน, สงสัย, อวด, จน, ขนลุก]</td>\n",
       "      <td>[ดี, เฮง, เฮง]</td>\n",
       "      <td>116.0</td>\n",
       "      <td>32.448276</td>\n",
       "      <td>337.232759</td>\n",
       "      <td>0.096219</td>\n",
       "      <td>0</td>\n",
       "      <td>1</td>\n",
       "      <td>5</td>\n",
       "      <td>3</td>\n",
       "    </tr>\n",
       "    <tr>\n",
       "      <th>2</th>\n",
       "      <td>Entertain</td>\n",
       "      <td>https://women.kapook.com/view228070.html</td>\n",
       "      <td>คุณพ่อ แต้ว ณฐพร เสียชีวิต ย้อนรอย อุบัติเหตุ ...</td>\n",
       "      <td>2020-07-02 03:10:35</td>\n",
       "      <td>109784</td>\n",
       "      <td>2013</td>\n",
       "      <td>ย้อนเหตุการณ์ อุบัติเหตุที่คาดไม่ถึงของ พลอากา...</td>\n",
       "      <td>80.00</td>\n",
       "      <td>negative</td>\n",
       "      <td>[เสียชีวิต, อุบัติเหตุ, จน]</td>\n",
       "      <td>...</td>\n",
       "      <td>[อุบัติเหตุ, เสียชีวิต, เงียบ, เสียชีวิต, เศร้...</td>\n",
       "      <td>[อย่างเข้มแข็ง, ดูแล, กุศล, ดีขึ้น, อย่างปลอดภ...</td>\n",
       "      <td>115.0</td>\n",
       "      <td>17.504348</td>\n",
       "      <td>954.643478</td>\n",
       "      <td>0.018336</td>\n",
       "      <td>3</td>\n",
       "      <td>1</td>\n",
       "      <td>15</td>\n",
       "      <td>6</td>\n",
       "    </tr>\n",
       "    <tr>\n",
       "      <th>3</th>\n",
       "      <td>Entertain</td>\n",
       "      <td>https://women.kapook.com/view228119.html</td>\n",
       "      <td>คุณพ่อ แต้ว ณฐพร อยู่เคียงข้าง แม้สถานะเปลี่ยนไป</td>\n",
       "      <td>2020-07-02 14:32:22</td>\n",
       "      <td>35951</td>\n",
       "      <td>1108</td>\n",
       "      <td>ต้น อาชว์ เดินทางมาร่วมพิธีรดน้ําศพ คุณพ่อ แต้...</td>\n",
       "      <td>0.00</td>\n",
       "      <td></td>\n",
       "      <td>[เปลี่ยนไป]</td>\n",
       "      <td>...</td>\n",
       "      <td>[เลิกรา, ดราม่า, เสียชีวิต, เปลี่ยนไป]</td>\n",
       "      <td>[เคียงข้าง, คู่รัก, มีมิตร, ดี, เคียงข้าง, ไม่...</td>\n",
       "      <td>115.0</td>\n",
       "      <td>9.634783</td>\n",
       "      <td>312.617391</td>\n",
       "      <td>0.030820</td>\n",
       "      <td>1</td>\n",
       "      <td>1</td>\n",
       "      <td>4</td>\n",
       "      <td>9</td>\n",
       "    </tr>\n",
       "    <tr>\n",
       "      <th>4</th>\n",
       "      <td>Entertain</td>\n",
       "      <td>https://women.kapook.com/view228177.html</td>\n",
       "      <td>เปิดเบาะแส พิธีกรเจ้าเสน่ห์ คารมดี เมียสวย แอบ...</td>\n",
       "      <td>2020-07-03 14:07:45</td>\n",
       "      <td>72897</td>\n",
       "      <td>1881</td>\n",
       "      <td>เพจดังปล่อยเบาะแส ข่าวเมาท์ พิธีกรเจ้าเสน่ห์ ค...</td>\n",
       "      <td>88.89</td>\n",
       "      <td>positive</td>\n",
       "      <td>[]</td>\n",
       "      <td>...</td>\n",
       "      <td>[ลับหลัง, ไม่กล้า, ยุ่ง, ไม่ได้, แฉ, ร้าย, เตื...</td>\n",
       "      <td>[คารมดี, สวย, แซ่บ, คารมดี, สวย, แซ่บ, คารมดี,...</td>\n",
       "      <td>114.0</td>\n",
       "      <td>16.500000</td>\n",
       "      <td>639.447368</td>\n",
       "      <td>0.025804</td>\n",
       "      <td>0</td>\n",
       "      <td>2</td>\n",
       "      <td>19</td>\n",
       "      <td>17</td>\n",
       "    </tr>\n",
       "  </tbody>\n",
       "</table>\n",
       "<p>5 rows × 23 columns</p>\n",
       "</div>"
      ],
      "text/plain": [
       "    Category                                       URL  \\\n",
       "0  Entertain  https://women.kapook.com/view228055.html   \n",
       "1  Entertain  https://women.kapook.com/view228058.html   \n",
       "2  Entertain  https://women.kapook.com/view228070.html   \n",
       "3  Entertain  https://women.kapook.com/view228119.html   \n",
       "4  Entertain  https://women.kapook.com/view228177.html   \n",
       "\n",
       "                                            headline            newsdate  \\\n",
       "0  เศร้า.. พ่อณรงค์ เตมีรักษ์ คุณพ่อ แต้ว ณฐพร เส... 2020-07-01 11:08:52   \n",
       "1  เฟี้ยว์ฟ้าว สุดสวิงริงโก้ ไลฟ์โชว์ลอตเตอรี่ ถู... 2020-07-01 12:38:31   \n",
       "2  คุณพ่อ แต้ว ณฐพร เสียชีวิต ย้อนรอย อุบัติเหตุ ... 2020-07-02 03:10:35   \n",
       "3   คุณพ่อ แต้ว ณฐพร อยู่เคียงข้าง แม้สถานะเปลี่ยนไป 2020-07-02 14:32:22   \n",
       "4  เปิดเบาะแส พิธีกรเจ้าเสน่ห์ คารมดี เมียสวย แอบ... 2020-07-03 14:07:45   \n",
       "\n",
       "   totalView  totalShare                                               text  \\\n",
       "0      58518        2604  คุณพ่อ ณรงค์ เตมีรักษ์ คุณพ่อของ แต้ว ณฐพร เสี...   \n",
       "1      39119        3764  อิม เฟี้ยว์ฟ้าว สุดสวิงริงโก้ ไลฟ์โชว์ลอตเตอรี...   \n",
       "2     109784        2013  ย้อนเหตุการณ์ อุบัติเหตุที่คาดไม่ถึงของ พลอากา...   \n",
       "3      35951        1108  ต้น อาชว์ เดินทางมาร่วมพิธีรดน้ําศพ คุณพ่อ แต้...   \n",
       "4      72897        1881  เพจดังปล่อยเบาะแส ข่าวเมาท์ พิธีกรเจ้าเสน่ห์ ค...   \n",
       "\n",
       "   hl_sentiment_score hl_polarity                    hl_neg_kw  ...  \\\n",
       "0               80.00    negative           [เศร้า, เสียชีวิต]  ...   \n",
       "1               75.00    positive                           []  ...   \n",
       "2               80.00    negative  [เสียชีวิต, อุบัติเหตุ, จน]  ...   \n",
       "3                0.00                              [เปลี่ยนไป]  ...   \n",
       "4               88.89    positive                           []  ...   \n",
       "\n",
       "                                            t_neg_kw  \\\n",
       "0  [เสียชีวิต, ประสบอุบัติเหตุ, จน, ประสบอุบัติเห...   \n",
       "1                        [จน, สงสัย, อวด, จน, ขนลุก]   \n",
       "2  [อุบัติเหตุ, เสียชีวิต, เงียบ, เสียชีวิต, เศร้...   \n",
       "3             [เลิกรา, ดราม่า, เสียชีวิต, เปลี่ยนไป]   \n",
       "4  [ลับหลัง, ไม่กล้า, ยุ่ง, ไม่ได้, แฉ, ร้าย, เตื...   \n",
       "\n",
       "                                            t_pos_kw dateDiff  \\\n",
       "0                                                 []    116.0   \n",
       "1                                     [ดี, เฮง, เฮง]    116.0   \n",
       "2  [อย่างเข้มแข็ง, ดูแล, กุศล, ดีขึ้น, อย่างปลอดภ...    115.0   \n",
       "3  [เคียงข้าง, คู่รัก, มีมิตร, ดี, เคียงข้าง, ไม่...    115.0   \n",
       "4  [คารมดี, สวย, แซ่บ, คารมดี, สวย, แซ่บ, คารมดี,...    114.0   \n",
       "\n",
       "  avg_share_per_day avg_view_per_day  avg_share_per_view  hl_neg_count  \\\n",
       "0         22.448276       504.465517            0.044499             2   \n",
       "1         32.448276       337.232759            0.096219             0   \n",
       "2         17.504348       954.643478            0.018336             3   \n",
       "3          9.634783       312.617391            0.030820             1   \n",
       "4         16.500000       639.447368            0.025804             0   \n",
       "\n",
       "   hl_pos_count  t_neg_count  t_pos_count  \n",
       "0             0            8            0  \n",
       "1             1            5            3  \n",
       "2             1           15            6  \n",
       "3             1            4            9  \n",
       "4             2           19           17  \n",
       "\n",
       "[5 rows x 23 columns]"
      ]
     },
     "execution_count": 13,
     "metadata": {},
     "output_type": "execute_result"
    }
   ],
   "source": [
    "df_plotViz.head()"
   ]
  },
  {
   "cell_type": "code",
   "execution_count": 14,
   "metadata": {},
   "outputs": [],
   "source": [
    "def create_ListofDict_InsertMany(df):\n",
    "    listofdict = []\n",
    "    for c,lx in enumerate(df.URL,0):\n",
    "        info = {\n",
    "            \"Category\":df.Category[c],\n",
    "            \"URL\": lx,\n",
    "            \"headline\": df.headline[c],\n",
    "            \"newsdate\": df.newsdate[c],\n",
    "            \"totalView\": int(df.totalView[c]),\n",
    "            \"totalShare\": int(df.totalShare[c]),\n",
    "            \"text\": df.text[c],\n",
    "            \"hl_sentiment_score\": float(df.hl_sentiment_score[c]),\n",
    "            \"hl_polarity\": df.hl_polarity[c],\n",
    "            \"hl_neg_kw\": df.hl_neg_kw[c],\n",
    "            \"hl_pos_kw\": df.hl_pos_kw[c],\n",
    "            \"t_sentiment_score\": float(df.t_sentiment_score[c]),\n",
    "            \"t_polarity\": df.t_polarity[c],\n",
    "            \"t_neg_kw\": df.t_neg_kw[c],\n",
    "            \"t_pos_kw\": df.t_pos_kw[c],\n",
    "            \"dateDiff\": float(df.dateDiff[c]), \n",
    "            \"avg_share_per_day\": float(df.avg_share_per_day[c]),\n",
    "            \"avg_view_per_day\": float(df.avg_view_per_day[c]),\n",
    "            \"avg_share_per_view\": float(df.avg_share_per_view[c]),\n",
    "            \"hl_neg_count\": int(df.hl_neg_count[c]),\n",
    "            \"hl_pos_count\": int(df.hl_pos_count[c]),\n",
    "            \"t_neg_count\": int(df.t_neg_count[c]),\n",
    "            \"t_pos_count\": int(df.t_pos_count[c])\n",
    "        }\n",
    "        listofdict.append(info)\n",
    "    return listofdict"
   ]
  },
  {
   "cell_type": "code",
   "execution_count": 15,
   "metadata": {
    "scrolled": true
   },
   "outputs": [],
   "source": [
    "df_plotViz = df_plotViz.fillna(0)"
   ]
  },
  {
   "cell_type": "code",
   "execution_count": 16,
   "metadata": {},
   "outputs": [
    {
     "data": {
      "text/plain": [
       "<pymongo.results.InsertManyResult at 0x1ef23f79e08>"
      ]
     },
     "execution_count": 16,
     "metadata": {},
     "output_type": "execute_result"
    }
   ],
   "source": [
    "q_all_urlList.delete_many({})\n",
    "process_data = create_ListofDict_InsertMany(df_plotViz)\n",
    "q_all_urlList.insert_many(process_data)"
   ]
  },
  {
   "cell_type": "code",
   "execution_count": null,
   "metadata": {},
   "outputs": [],
   "source": []
  }
 ],
 "metadata": {
  "kernelspec": {
   "display_name": "Python 3",
   "language": "python",
   "name": "python3"
  },
  "language_info": {
   "codemirror_mode": {
    "name": "ipython",
    "version": 3
   },
   "file_extension": ".py",
   "mimetype": "text/x-python",
   "name": "python",
   "nbconvert_exporter": "python",
   "pygments_lexer": "ipython3",
   "version": "3.7.3"
  }
 },
 "nbformat": 4,
 "nbformat_minor": 2
}
