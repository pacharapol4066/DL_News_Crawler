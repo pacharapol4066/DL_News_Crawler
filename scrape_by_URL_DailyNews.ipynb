{
 "cells": [
  {
   "cell_type": "code",
   "execution_count": 1,
   "metadata": {},
   "outputs": [],
   "source": [
    "from bs4 import BeautifulSoup\n",
    "from urllib.request import urlopen\n",
    "import time\n",
    "from datetime import datetime\n",
    "from datetime import timedelta\n",
    "import pandas as pd\n",
    "import json\n",
    "import pymongo\n",
    "from selenium import webdriver\n",
    "from selenium.webdriver.support.ui import WebDriverWait\n",
    "from selenium.webdriver.support import expected_conditions as EC\n",
    "from selenium.webdriver.common.by import By\n",
    "from selenium.common.exceptions import TimeoutException\n",
    "from IPython.display import clear_output"
   ]
  },
  {
   "cell_type": "code",
   "execution_count": 2,
   "metadata": {},
   "outputs": [],
   "source": [
    "def create_ListofDict(url,view,totalshr,shrFb,shrTw,shrGp,txt):\n",
    "    info = {\n",
    "            \"URL\":url,\n",
    "            \"totalView\": view,\n",
    "            \"totalShare\": totalshr,\n",
    "            \"share_fb\": shrFb,\n",
    "            \"share_tw\": shrTw,\n",
    "            \"share_gp\": shrGp,\n",
    "            \"text\": txt\n",
    "    }\n",
    "    return info"
   ]
  },
  {
   "cell_type": "code",
   "execution_count": 3,
   "metadata": {},
   "outputs": [],
   "source": [
    "def create_ListofDict_InsertMany(df):\n",
    "    listofdict = []\n",
    "    for c,lx in enumerate(df.URL,0):\n",
    "        info = {\n",
    "            \"URL\":lx,\n",
    "            \"totalView\": int(df.totalView[c]),\n",
    "            \"totalShare\": int(df.totalShare[c]),\n",
    "            \"share_fb\": int(df.share_fb[c]),\n",
    "            \"share_tw\": int(df.share_tw[c]),\n",
    "            \"share_gp\": int(df.share_gp[c]),\n",
    "            \"text\": df.text[c]\n",
    "        }\n",
    "        listofdict.append(info)\n",
    "    return listofdict"
   ]
  },
  {
   "cell_type": "code",
   "execution_count": 4,
   "metadata": {},
   "outputs": [],
   "source": [
    "def convertKtoNum(s):\n",
    "    if  'K' in s:\n",
    "        ss = s.split('K')\n",
    "        n = float(ss[0])*1000\n",
    "    else:\n",
    "        n = int(s)\n",
    "    return n"
   ]
  },
  {
   "cell_type": "code",
   "execution_count": 5,
   "metadata": {},
   "outputs": [],
   "source": [
    "# Connect MongoDB\n",
    "myclient = pymongo.MongoClient(\"mongodb://localhost:27017/\")\n",
    "mydb = myclient[\"BADS7101\"]\n",
    "q_c_urlList = mydb[\"URL_LIST_CRIME\"]\n",
    "q_p_urlList = mydb[\"URL_LIST_POLITIC\"]\n",
    "q_e_urlList = mydb[\"URL_LIST_ENTER\"]\n",
    "q_p2_urlList = mydb[\"POLITIC_NEWS_U\"]\n",
    "\n",
    "i_c_scrape = mydb[\"CRIME_NEWS\"]\n",
    "i_p_scrape = mydb[\"POLITIC_NEWS_U\"]\n",
    "i_e_scrape = mydb[\"ENTERTAIN_NEWS\"]"
   ]
  },
  {
   "cell_type": "markdown",
   "metadata": {},
   "source": [
    "### ข่าวอาชญากรรม"
   ]
  },
  {
   "cell_type": "code",
   "execution_count": null,
   "metadata": {},
   "outputs": [],
   "source": [
    "cursor1 = q_c_urlList.find()"
   ]
  },
  {
   "cell_type": "code",
   "execution_count": null,
   "metadata": {},
   "outputs": [],
   "source": [
    "df_crime = pd.DataFrame(cursor1)\n",
    "df_crime.tail()"
   ]
  },
  {
   "cell_type": "code",
   "execution_count": null,
   "metadata": {},
   "outputs": [],
   "source": [
    "print('ตรวจสอบวันแรกและสุดท้าย ก่อนตัด scope 3 เดือน (90 วัน)')\n",
    "g = datetime.strptime(str(max(df_crime.newsdate)), '%Y-%m-%d %H:%M:%S')\n",
    "mts = timedelta(days=90)\n",
    "print('Min time:',min(df_crime.newsdate))\n",
    "print('Max time',max(df_crime.newsdate))\n",
    "print('Min filter time',g-mts)"
   ]
  },
  {
   "cell_type": "code",
   "execution_count": null,
   "metadata": {},
   "outputs": [],
   "source": [
    "df_crime = df_crime[df_crime.newsdate >= g-mts]\n",
    "df_crime.head()"
   ]
  },
  {
   "cell_type": "markdown",
   "metadata": {},
   "source": [
    "df_crime.URL[0:100]  0-99<br>\n",
    "df_crime.URL[100:300] 100-299"
   ]
  },
  {
   "cell_type": "code",
   "execution_count": null,
   "metadata": {},
   "outputs": [],
   "source": [
    "i_c_scrape.delete_many({})\n",
    "\n",
    "#df_crime.URL[0:2]\n",
    "\n",
    "for c,each in enumerate(df_crime.URL,0):\n",
    "    print('URL',c+1)\n",
    "    driver = webdriver.Chrome(executable_path='selenium/chromedriver.exe')\n",
    "    driver.get(each)\n",
    "    try:\n",
    "        myElem = WebDriverWait(driver, 3).until(EC.visibility_of_element_located((By.CLASS_NAME, 'reader')))\n",
    "        content=driver.page_source\n",
    "        soup=BeautifulSoup(content,'lxml')\n",
    "        div = soup.find(\"div\", class_=lambda value: value and value==\"share-box-mobile\")\n",
    "        h2 = div.find(\"h2\", class_=lambda value: value and value==\"heading\")\n",
    "        share_a_fb = div.find(\"a\", class_=lambda value: value and value==\"share-btn fb\", href=True)\n",
    "        share_a_tw = div.find(\"a\", class_=lambda value: value and value==\"share-btn tw\", href=True)\n",
    "        share_a_gp = div.find(\"a\", class_=lambda value: value and value==\"share-btn gp\", href=True)\n",
    "        div2 = soup.find(\"div\", class_=lambda value: value and value==\"article-subbox\")\n",
    "        view_div = div2.find(\"div\", class_=lambda value: value and value==\"upper\")\n",
    "        div3 = soup.find(\"div\", class_=lambda value: value and value==\"entry textbox content-all\")\n",
    "        total_share = h2.text.split()[2]\n",
    "        share_fb = share_a_fb.text.strip()\n",
    "        share_tw = share_a_tw.text.strip()\n",
    "        share_gp = share_a_gp.text.strip()\n",
    "        view_ = int(view_div.text.strip().split()[1].replace(',',''))\n",
    "        text_  = div3.text.strip()\n",
    "        process_data = create_ListofDict(each,view_,int(total_share),int(share_fb),int(share_tw),int(share_gp),text_)\n",
    "        i_c_scrape.insert_one(process_data)\n",
    "    except TimeoutException:\n",
    "        print('Request time out')\n",
    "    driver.quit()\n",
    "    clear_output(wait=True)"
   ]
  },
  {
   "cell_type": "markdown",
   "metadata": {},
   "source": [
    "### ข่าวการเมือง"
   ]
  },
  {
   "cell_type": "code",
   "execution_count": 6,
   "metadata": {},
   "outputs": [],
   "source": [
    "cursor2 = q_p_urlList.find()"
   ]
  },
  {
   "cell_type": "code",
   "execution_count": 7,
   "metadata": {},
   "outputs": [],
   "source": [
    "df_politic_url = pd.DataFrame(cursor2)\n",
    "#df_politic_url.tail(3)"
   ]
  },
  {
   "cell_type": "code",
   "execution_count": 8,
   "metadata": {},
   "outputs": [
    {
     "name": "stdout",
     "output_type": "stream",
     "text": [
      "ตรวจสอบวันแรกและสุดท้าย ก่อนตัด scope 3 เดือน (90 วัน)\n",
      "Min filter 2020-08-09 22:15:00\n",
      "Min time: 2020-08-07 14:50:00\n",
      "Max time 2020-11-07 22:15:00\n"
     ]
    }
   ],
   "source": [
    "print('ตรวจสอบวันแรกและสุดท้าย ก่อนตัด scope 3 เดือน (90 วัน)')\n",
    "g = datetime.strptime(str(max(df_politic_url.newsdate)), '%Y-%m-%d %H:%M:%S')\n",
    "mts = timedelta(days=90)\n",
    "print('Min filter',g-mts)\n",
    "print('Min time:',min(df_politic_url.newsdate))\n",
    "print('Max time',max(df_politic_url.newsdate))"
   ]
  },
  {
   "cell_type": "code",
   "execution_count": 9,
   "metadata": {},
   "outputs": [],
   "source": [
    "df_politic_url = df_politic_url[df_politic_url.newsdate >= g-mts]\n",
    "df_politic_url.drop_duplicates(subset=['URL'], inplace=True, ignore_index=True)\n",
    "\n",
    "cursorp2 = q_p2_urlList.find()\n",
    "df_politic_exDetail = pd.DataFrame(cursorp2)\n",
    "df_politic_exDetail.drop_duplicates(subset=['URL'], inplace=True, ignore_index=True)\n",
    "\n",
    "df_politic_j = pd.merge(df_politic_url, df_politic_exDetail, how=\"left\",on=['URL'])\n",
    "df_politic_j = df_politic_j[df_politic_j._id_y.isnull()]"
   ]
  },
  {
   "cell_type": "code",
   "execution_count": 12,
   "metadata": {},
   "outputs": [
    {
     "data": {
      "text/html": [
       "<div>\n",
       "<style scoped>\n",
       "    .dataframe tbody tr th:only-of-type {\n",
       "        vertical-align: middle;\n",
       "    }\n",
       "\n",
       "    .dataframe tbody tr th {\n",
       "        vertical-align: top;\n",
       "    }\n",
       "\n",
       "    .dataframe thead th {\n",
       "        text-align: right;\n",
       "    }\n",
       "</style>\n",
       "<table border=\"1\" class=\"dataframe\">\n",
       "  <thead>\n",
       "    <tr style=\"text-align: right;\">\n",
       "      <th></th>\n",
       "      <th>_id_x</th>\n",
       "      <th>timestamp</th>\n",
       "      <th>URL</th>\n",
       "      <th>headline</th>\n",
       "      <th>newsdate</th>\n",
       "      <th>_id_y</th>\n",
       "      <th>totalView</th>\n",
       "      <th>totalShare</th>\n",
       "      <th>share_fb</th>\n",
       "      <th>share_tw</th>\n",
       "      <th>share_gp</th>\n",
       "      <th>text</th>\n",
       "    </tr>\n",
       "  </thead>\n",
       "  <tbody>\n",
       "    <tr>\n",
       "      <th>240</th>\n",
       "      <td>5fa6cc5452e52341a96bec20</td>\n",
       "      <td>2020-11-07 23:33:16.231</td>\n",
       "      <td>https://www.dailynews.co.th/politics/804489</td>\n",
       "      <td>\"นพ.วรงค์\" ปลื้มปีติเผย \"ในหลวง\" ทรงตรัส \"ต้อง...</td>\n",
       "      <td>2020-11-02 00:54:00</td>\n",
       "      <td>NaN</td>\n",
       "      <td>NaN</td>\n",
       "      <td>NaN</td>\n",
       "      <td>NaN</td>\n",
       "      <td>NaN</td>\n",
       "      <td>NaN</td>\n",
       "      <td>NaN</td>\n",
       "    </tr>\n",
       "    <tr>\n",
       "      <th>1312</th>\n",
       "      <td>5fa6d1f752e52341a96bf050</td>\n",
       "      <td>2020-11-07 23:57:19.971</td>\n",
       "      <td>https://www.dailynews.co.th/politics/800489</td>\n",
       "      <td>\"ในหลวง\"โปรดเกล้าฯ รมว.คลังเข้าเฝ้าถวายสัตย์ฯ</td>\n",
       "      <td>2020-10-11 21:50:00</td>\n",
       "      <td>NaN</td>\n",
       "      <td>NaN</td>\n",
       "      <td>NaN</td>\n",
       "      <td>NaN</td>\n",
       "      <td>NaN</td>\n",
       "      <td>NaN</td>\n",
       "      <td>NaN</td>\n",
       "    </tr>\n",
       "  </tbody>\n",
       "</table>\n",
       "</div>"
      ],
      "text/plain": [
       "                         _id_x               timestamp  \\\n",
       "240   5fa6cc5452e52341a96bec20 2020-11-07 23:33:16.231   \n",
       "1312  5fa6d1f752e52341a96bf050 2020-11-07 23:57:19.971   \n",
       "\n",
       "                                              URL  \\\n",
       "240   https://www.dailynews.co.th/politics/804489   \n",
       "1312  https://www.dailynews.co.th/politics/800489   \n",
       "\n",
       "                                               headline            newsdate  \\\n",
       "240   \"นพ.วรงค์\" ปลื้มปีติเผย \"ในหลวง\" ทรงตรัส \"ต้อง... 2020-11-02 00:54:00   \n",
       "1312      \"ในหลวง\"โปรดเกล้าฯ รมว.คลังเข้าเฝ้าถวายสัตย์ฯ 2020-10-11 21:50:00   \n",
       "\n",
       "     _id_y  totalView  totalShare  share_fb  share_tw  share_gp text  \n",
       "240    NaN        NaN         NaN       NaN       NaN       NaN  NaN  \n",
       "1312   NaN        NaN         NaN       NaN       NaN       NaN  NaN  "
      ]
     },
     "execution_count": 12,
     "metadata": {},
     "output_type": "execute_result"
    }
   ],
   "source": [
    "df_politic_j.head(2)"
   ]
  },
  {
   "cell_type": "code",
   "execution_count": 13,
   "metadata": {},
   "outputs": [
    {
     "name": "stdout",
     "output_type": "stream",
     "text": [
      "Min time: 2020-08-09 23:26:00\n",
      "Max time 2020-11-02 00:54:00\n"
     ]
    }
   ],
   "source": [
    "print('Min time:',min(df_politic_j.newsdate))\n",
    "print('Max time',max(df_politic_j.newsdate))"
   ]
  },
  {
   "cell_type": "code",
   "execution_count": 11,
   "metadata": {},
   "outputs": [
    {
     "data": {
      "text/plain": [
       "(2020, 12)"
      ]
     },
     "execution_count": 11,
     "metadata": {},
     "output_type": "execute_result"
    }
   ],
   "source": [
    "df_politic_j.shape"
   ]
  },
  {
   "cell_type": "code",
   "execution_count": 14,
   "metadata": {},
   "outputs": [
    {
     "name": "stdout",
     "output_type": "stream",
     "text": [
      "URL 2020 Element https://www.dailynews.co.th/politics/789088 3700 22 7 7 8 เมื่อวันที่ 9 ส.ค. น.อ.อนุดิษฐ์ นาครทรรพ เลขาธิการพรรคเพื่อไทย พร้อมด้วยนายอนุสรณ์ เอี่ยมสะอาด โฆษกพรรค นายณรงค์ รุ่งธนวงศ์ กรรมการบริหารพรรค นายประเสริฐ ชัยกิจเด่นนภาลัย ผู้อำนวยการเลือกตั้ง และนางสลิลทิพย์ สุขวัฒน์ ผู้สมัครรับเลือกตั้งซ่อม ส.ส.สมุทรปราการ เขต 5  แถลงข่าวที่ศูนย์ประสานงานการเลือกตั้ง เขต 5 จังหวัดสมุทรปราการ เพื่อขอบคุณทุกคะแนนเสียงของพี่น้องชาวสมุทรปราการที่มอบให้กับผู้สมัครของพรรคเพื่อไทย\n",
      " \n",
      "น.อ.อนุดิษฐ์ กล่าวว่า พรรคเพื่อไทยขอขอบคุณทุกคะแนนเสียงของพี่น้องชาวสมุทรปราการที่มอบให้ผู้สมัครของพรรคเพื่อไทยในการเลือกตั้งครั้งนี้ และเชื่อว่าต่อไปในอนาคตพี่น้องจะยังคงให้โอกาสพรรคเพื่อไทยต่อไป อย่างไรก็ตาม ต้องเรียกร้องไปยังคณะกรรมการการเลือกตั้ง (กกต.) ให้ตรวจสอบกรณีที่พบสิ่งผิดปกติต่างๆ โดยพรรคเพื่อไทยจะดำเนินการรวบรวมหลักฐานเพื่อนำเข้าสู่กระบวนการตรวจสอบเพื่อให้การเลือกตั้งครั้งนี้บริสุทธิ์โปร่งใสที่สุด\n",
      "\n",
      "สำหรับกรณีที่พบว่าหีบบัตรเลือกตั้งหลายแห่ง ไม่เป็นไปตามที่ระเบียบกำหนด เช่น หีบบัตรไม่มีสายรัด รวมไปถึงคณะกรรมการประจำหน่วยเลือกตั้ง ยังปล่อยให้มีการนำป้ายหาเสียงของผู้สมัครบางท่าน ไปวางอยู่หน้าหน่วย และกรณีที่ได้รับรายงานการลงพื้นที่ของทีมเยาวชนอาสาสมัครจับตาการเลือกตั้งว่า ในช่วง 1 สัปดาห์ที่ผ่านมามีการเก็บบัตรประชาชน และที่สำคัญคือ ได้รับการร้องเรียนเกี่ยวกับการซื้อเสียงซึ่งมีข้อมูลเรื่องตัวเลขจำนวนเงินชัดเจน โดยจะรวบรวมหลักฐานเพื่อส่งให้ กกต.ตรวจสอบ หากพบเรื่องใดมีความไม่บริสุทธิ์ยุติธรรมจะดำเนินการร้องขอความเป็นธรรมต่อไป\n",
      "                     \n",
      "                                            \n",
      "\n",
      "\n",
      "\n",
      "\n",
      "\n",
      "                        \tgoogletag.cmd.push(function() { googletag.display('div-gpt-ad-8668011-5'); });\n"
     ]
    }
   ],
   "source": [
    "#i_p_scrape.delete_many({})\n",
    "\n",
    "reqTo = []\n",
    "\n",
    "for c,each in enumerate(df_politic_j.URL,0):\n",
    "    driver = webdriver.Chrome(executable_path='selenium/chromedriver.exe')\n",
    "    driver.get(each)\n",
    "    try:\n",
    "        myElem = WebDriverWait(driver,4).until(EC.visibility_of_element_located((By.CLASS_NAME, 'reader')))\n",
    "        content=driver.page_source\n",
    "        soup=BeautifulSoup(content,'lxml')\n",
    "        div = soup.find(\"div\", class_=lambda value: value and value==\"share-box-mobile\")\n",
    "        h2 = div.find(\"h2\", class_=lambda value: value and value==\"heading\")\n",
    "        share_a_fb = div.find(\"a\", class_=lambda value: value and value==\"share-btn fb\", href=True)\n",
    "        share_a_tw = div.find(\"a\", class_=lambda value: value and value==\"share-btn tw\", href=True)\n",
    "        share_a_gp = div.find(\"a\", class_=lambda value: value and value==\"share-btn gp\", href=True)\n",
    "        div2 = soup.find(\"div\", class_=lambda value: value and value==\"article-subbox\")\n",
    "        view_div = div2.find(\"div\", class_=lambda value: value and value==\"upper\")\n",
    "        div3 = soup.find(\"div\", class_=lambda value: value and value==\"entry textbox content-all\")\n",
    "        total_share = h2.text.split()[2]\n",
    "        share_fb = share_a_fb.text.strip()\n",
    "        share_tw = share_a_tw.text.strip()\n",
    "        share_gp = share_a_gp.text.strip()\n",
    "        view_ = int(view_div.text.strip().split()[1].replace(',',''))\n",
    "        text_  = div3.text.strip()\n",
    "        print('URL',c+1,'Element',each,view_,convertKtoNum(total_share),share_fb,share_tw,share_gp,text_)\n",
    "        process_data = create_ListofDict(each,view_,convertKtoNum(total_share),\n",
    "                                         convertKtoNum(share_fb),convertKtoNum(share_tw),convertKtoNum(share_gp),text_)\n",
    "        i_p_scrape.insert_one(process_data)\n",
    "    except TimeoutException:\n",
    "        print('Request time out at row',c)\n",
    "        reqTo.append(c)\n",
    "    driver.quit()\n",
    "    clear_output(wait=True)"
   ]
  },
  {
   "cell_type": "code",
   "execution_count": 15,
   "metadata": {},
   "outputs": [
    {
     "data": {
      "text/plain": [
       "[0, 1, 837, 1901]"
      ]
     },
     "execution_count": 15,
     "metadata": {},
     "output_type": "execute_result"
    }
   ],
   "source": [
    "reqTo"
   ]
  },
  {
   "cell_type": "code",
   "execution_count": null,
   "metadata": {},
   "outputs": [],
   "source": [
    "# Remove duplicate and reinsert POLITIC_NEWS_U แล้วลบ POLITIC_NEWS เดิมออก เพื่อประหยัดเนื้อที่\n",
    "#i_pp_scrape = mydb[\"POLITIC_NEWS_U\"]\n",
    "#cc = i_p_scrape.find()\n",
    "#df_p_u = pd.DataFrame(cc)\n",
    "#df_p_u = df_p_u.drop_duplicates(subset=['URL'],ignore_index=True)\n",
    "#df_p_u.shape"
   ]
  },
  {
   "cell_type": "code",
   "execution_count": null,
   "metadata": {},
   "outputs": [],
   "source": [
    "#df_p_u.tail()"
   ]
  },
  {
   "cell_type": "code",
   "execution_count": null,
   "metadata": {},
   "outputs": [],
   "source": [
    "#i_pp_scrape.delete_many({})\n",
    "#process_data = create_ListofDict_InsertMany(df_p_u)\n",
    "#i_pp_scrape.insert_many(process_data)"
   ]
  },
  {
   "cell_type": "markdown",
   "metadata": {},
   "source": [
    "### ข่าวบันเทิง"
   ]
  },
  {
   "cell_type": "code",
   "execution_count": 6,
   "metadata": {},
   "outputs": [],
   "source": [
    "cursor3 = q_e_urlList.find()"
   ]
  },
  {
   "cell_type": "code",
   "execution_count": 7,
   "metadata": {},
   "outputs": [
    {
     "data": {
      "text/html": [
       "<div>\n",
       "<style scoped>\n",
       "    .dataframe tbody tr th:only-of-type {\n",
       "        vertical-align: middle;\n",
       "    }\n",
       "\n",
       "    .dataframe tbody tr th {\n",
       "        vertical-align: top;\n",
       "    }\n",
       "\n",
       "    .dataframe thead th {\n",
       "        text-align: right;\n",
       "    }\n",
       "</style>\n",
       "<table border=\"1\" class=\"dataframe\">\n",
       "  <thead>\n",
       "    <tr style=\"text-align: right;\">\n",
       "      <th></th>\n",
       "      <th>_id</th>\n",
       "      <th>timestamp</th>\n",
       "      <th>URL</th>\n",
       "      <th>headline</th>\n",
       "      <th>newsdate</th>\n",
       "    </tr>\n",
       "  </thead>\n",
       "  <tbody>\n",
       "    <tr>\n",
       "      <th>1987</th>\n",
       "      <td>5fa6dfa352e52341a96bfab9</td>\n",
       "      <td>2020-11-08 00:55:38.872</td>\n",
       "      <td>https://www.dailynews.co.th/entertainment/763348</td>\n",
       "      <td>แอบห่วง\"แต้ว-ณฐพร\" หลังเป็นไข้ต่ำๆนานแล้วแต่ไม่ลด</td>\n",
       "      <td>2020-03-17 14:13:00</td>\n",
       "    </tr>\n",
       "    <tr>\n",
       "      <th>1988</th>\n",
       "      <td>5fa6dfa352e52341a96bfaba</td>\n",
       "      <td>2020-11-08 00:55:38.872</td>\n",
       "      <td>https://www.dailynews.co.th/entertainment/763337</td>\n",
       "      <td>เก๋ไก๋มาก! \"ดีเจแมน\" เผยชื่อลูกสาวสุดน่ารัก \"เ...</td>\n",
       "      <td>2020-03-17 13:32:00</td>\n",
       "    </tr>\n",
       "    <tr>\n",
       "      <th>1989</th>\n",
       "      <td>5fa6dfa352e52341a96bfabb</td>\n",
       "      <td>2020-11-08 00:55:38.872</td>\n",
       "      <td>https://www.dailynews.co.th/entertainment/763325</td>\n",
       "      <td>\"เชน\"เรียกร้องทุกฝ่ายทำเพื่อประเทศ ไม่โทษและฟ้...</td>\n",
       "      <td>2020-03-17 13:30:00</td>\n",
       "    </tr>\n",
       "  </tbody>\n",
       "</table>\n",
       "</div>"
      ],
      "text/plain": [
       "                           _id               timestamp  \\\n",
       "1987  5fa6dfa352e52341a96bfab9 2020-11-08 00:55:38.872   \n",
       "1988  5fa6dfa352e52341a96bfaba 2020-11-08 00:55:38.872   \n",
       "1989  5fa6dfa352e52341a96bfabb 2020-11-08 00:55:38.872   \n",
       "\n",
       "                                                   URL  \\\n",
       "1987  https://www.dailynews.co.th/entertainment/763348   \n",
       "1988  https://www.dailynews.co.th/entertainment/763337   \n",
       "1989  https://www.dailynews.co.th/entertainment/763325   \n",
       "\n",
       "                                               headline            newsdate  \n",
       "1987  แอบห่วง\"แต้ว-ณฐพร\" หลังเป็นไข้ต่ำๆนานแล้วแต่ไม่ลด 2020-03-17 14:13:00  \n",
       "1988  เก๋ไก๋มาก! \"ดีเจแมน\" เผยชื่อลูกสาวสุดน่ารัก \"เ... 2020-03-17 13:32:00  \n",
       "1989  \"เชน\"เรียกร้องทุกฝ่ายทำเพื่อประเทศ ไม่โทษและฟ้... 2020-03-17 13:30:00  "
      ]
     },
     "execution_count": 7,
     "metadata": {},
     "output_type": "execute_result"
    }
   ],
   "source": [
    "df_entertain = pd.DataFrame(cursor3)\n",
    "df_entertain.tail(3)"
   ]
  },
  {
   "cell_type": "code",
   "execution_count": 8,
   "metadata": {},
   "outputs": [
    {
     "name": "stdout",
     "output_type": "stream",
     "text": [
      "ตรวจสอบวันแรกและสุดท้าย ก่อนตัด scope 3 เดือน (90 วัน)\n",
      "Min time: 2020-03-17 13:30:00\n",
      "Max time 2020-11-07 18:52:00\n",
      "Min filter time 2020-08-09 18:52:00\n"
     ]
    }
   ],
   "source": [
    "print('ตรวจสอบวันแรกและสุดท้าย ก่อนตัด scope 3 เดือน (90 วัน)')\n",
    "g = datetime.strptime(str(max(df_entertain.newsdate)), '%Y-%m-%d %H:%M:%S')\n",
    "mts = timedelta(days=90)\n",
    "print('Min time:',min(df_entertain.newsdate))\n",
    "print('Max time',max(df_entertain.newsdate))\n",
    "print('Min filter time',g-mts)"
   ]
  },
  {
   "cell_type": "code",
   "execution_count": 9,
   "metadata": {},
   "outputs": [
    {
     "data": {
      "text/html": [
       "<div>\n",
       "<style scoped>\n",
       "    .dataframe tbody tr th:only-of-type {\n",
       "        vertical-align: middle;\n",
       "    }\n",
       "\n",
       "    .dataframe tbody tr th {\n",
       "        vertical-align: top;\n",
       "    }\n",
       "\n",
       "    .dataframe thead th {\n",
       "        text-align: right;\n",
       "    }\n",
       "</style>\n",
       "<table border=\"1\" class=\"dataframe\">\n",
       "  <thead>\n",
       "    <tr style=\"text-align: right;\">\n",
       "      <th></th>\n",
       "      <th>_id</th>\n",
       "      <th>timestamp</th>\n",
       "      <th>URL</th>\n",
       "      <th>headline</th>\n",
       "      <th>newsdate</th>\n",
       "    </tr>\n",
       "  </thead>\n",
       "  <tbody>\n",
       "    <tr>\n",
       "      <th>1026</th>\n",
       "      <td>5fa6da9752e52341a96bf6f8</td>\n",
       "      <td>2020-11-08 00:34:09.518</td>\n",
       "      <td>https://www.dailynews.co.th/entertainment/789121</td>\n",
       "      <td>น้ำใจ'เปา กิ่งกาญจน์'แม้ไม่ว่าง ยังช่วย'เบ บอล...</td>\n",
       "      <td>2020-08-10 12:40:00</td>\n",
       "    </tr>\n",
       "    <tr>\n",
       "      <th>1027</th>\n",
       "      <td>5fa6da9752e52341a96bf6f9</td>\n",
       "      <td>2020-11-08 00:34:09.518</td>\n",
       "      <td>https://www.dailynews.co.th/entertainment/789106</td>\n",
       "      <td>ค่าย'เจนนี่'เลือดไหลไม่หยุด 'เบบอล'โบกมือลาอีกคน</td>\n",
       "      <td>2020-08-10 09:26:00</td>\n",
       "    </tr>\n",
       "    <tr>\n",
       "      <th>1028</th>\n",
       "      <td>5fa6da9752e52341a96bf6fa</td>\n",
       "      <td>2020-11-08 00:34:09.518</td>\n",
       "      <td>https://www.dailynews.co.th/entertainment/789096</td>\n",
       "      <td>'ซาร่า'เคลื่อนไหวแล้ว ปมคุณแม่เลี้ยงเดี่ยวป่อง...</td>\n",
       "      <td>2020-08-10 07:00:00</td>\n",
       "    </tr>\n",
       "    <tr>\n",
       "      <th>1029</th>\n",
       "      <td>5fa6da9752e52341a96bf6fb</td>\n",
       "      <td>2020-11-08 00:34:09.518</td>\n",
       "      <td>https://www.dailynews.co.th/entertainment/789085</td>\n",
       "      <td>'เนเงิน'ขนเด็กในค่ายทำคลิป ลงTiktokตอกกลับคำดูถูก</td>\n",
       "      <td>2020-08-09 22:20:00</td>\n",
       "    </tr>\n",
       "    <tr>\n",
       "      <th>1030</th>\n",
       "      <td>5fa6daa452e52341a96bf6fc</td>\n",
       "      <td>2020-11-08 00:34:20.726</td>\n",
       "      <td>https://www.dailynews.co.th/entertainment/789074</td>\n",
       "      <td>BNK48เปิดตัวจัดเต็ม เธียร์เตอร์สเตจใหม่-สุดคุ้...</td>\n",
       "      <td>2020-08-09 19:56:00</td>\n",
       "    </tr>\n",
       "  </tbody>\n",
       "</table>\n",
       "</div>"
      ],
      "text/plain": [
       "                           _id               timestamp  \\\n",
       "1026  5fa6da9752e52341a96bf6f8 2020-11-08 00:34:09.518   \n",
       "1027  5fa6da9752e52341a96bf6f9 2020-11-08 00:34:09.518   \n",
       "1028  5fa6da9752e52341a96bf6fa 2020-11-08 00:34:09.518   \n",
       "1029  5fa6da9752e52341a96bf6fb 2020-11-08 00:34:09.518   \n",
       "1030  5fa6daa452e52341a96bf6fc 2020-11-08 00:34:20.726   \n",
       "\n",
       "                                                   URL  \\\n",
       "1026  https://www.dailynews.co.th/entertainment/789121   \n",
       "1027  https://www.dailynews.co.th/entertainment/789106   \n",
       "1028  https://www.dailynews.co.th/entertainment/789096   \n",
       "1029  https://www.dailynews.co.th/entertainment/789085   \n",
       "1030  https://www.dailynews.co.th/entertainment/789074   \n",
       "\n",
       "                                               headline            newsdate  \n",
       "1026  น้ำใจ'เปา กิ่งกาญจน์'แม้ไม่ว่าง ยังช่วย'เบ บอล... 2020-08-10 12:40:00  \n",
       "1027   ค่าย'เจนนี่'เลือดไหลไม่หยุด 'เบบอล'โบกมือลาอีกคน 2020-08-10 09:26:00  \n",
       "1028  'ซาร่า'เคลื่อนไหวแล้ว ปมคุณแม่เลี้ยงเดี่ยวป่อง... 2020-08-10 07:00:00  \n",
       "1029  'เนเงิน'ขนเด็กในค่ายทำคลิป ลงTiktokตอกกลับคำดูถูก 2020-08-09 22:20:00  \n",
       "1030  BNK48เปิดตัวจัดเต็ม เธียร์เตอร์สเตจใหม่-สุดคุ้... 2020-08-09 19:56:00  "
      ]
     },
     "execution_count": 9,
     "metadata": {},
     "output_type": "execute_result"
    }
   ],
   "source": [
    "df_entertain = df_entertain[df_entertain.newsdate >= g-mts]\n",
    "df_entertain.tail()"
   ]
  },
  {
   "cell_type": "code",
   "execution_count": 10,
   "metadata": {},
   "outputs": [
    {
     "data": {
      "text/plain": [
       "(1031, 5)"
      ]
     },
     "execution_count": 10,
     "metadata": {},
     "output_type": "execute_result"
    }
   ],
   "source": [
    "df_entertain.shape"
   ]
  },
  {
   "cell_type": "code",
   "execution_count": 11,
   "metadata": {},
   "outputs": [
    {
     "name": "stdout",
     "output_type": "stream",
     "text": [
      "URL 1031 Element https://www.dailynews.co.th/entertainment/789074 6512 46 20 13 13 บริษัท อินดิเพนเด้นท์อาร์ทิสท์เมเนจเม้นท์ จำกัด หรือ iAM (ไอแอม) ผู้ดูแลบริหารงานศิลปินไอดอลหญิงวง “BNK48” ในประเทศไทยเดินหน้าจัดรอบการแสดงจากเธียร์เตอร์สเตจใหม่สุด จากBNK48 ทั้ง 2 ทีม คือทีมNV  1st “Theater no Megami” และทีม Blll 2nd สเตจ ที่ชื่อว่า “Saishuu Bell ga Naru” ณ BNK48 The Campus ชั้น 4 ศูนย์การค้าเดอะมอลล์บางกะปิ ท่ามกลางมาตรการความปลอดภัยด้านสาธารณสุข\n",
      "\n",
      "\n",
      "\n",
      "\n",
      "\n",
      "\n",
      "\n",
      "\n",
      "\n",
      "\n",
      "\n",
      "\n",
      "\n",
      "\n",
      "\n",
      "\n",
      "\n",
      "\n",
      " \n",
      "สำหรับทีม BNK48 Team NV จำนวน 16 คน ประกอบด้วย ตาหวาน-อิสราภา ธวัชภักดี (Team NV Captain) ปูเป้-จิรดาภา อินทจักร (Team NV Vice-Captain) ,แบมบู-จณิสตา ตันศิริ ,ฟ้อนด์-ณัฐทิชา จันทรวารีเลขา ,จีจี้-ณัฐกุล พิมพ์ธงชัยกุล ,จำ-ณปภัช วรพฤธานนท์ ,ไข่มุก-วรัทยา ดีสมเลิศ ,มิวนิค-นันท์นภัส เลิศนามเชิดสกุล ,โมบายล์-พิมรภัส ผดุงวัฒนะโชค ,มิวสิค-แพรวา สุธรรมพงษ์ ,น้ำหนึ่ง-มิลิน ดอกเทียน ,น้ำใส-พิชญาภา นาถา ,นิว-ชัญญาภัค นุ่มประสพ ,นาย-ภัทรนรินทร์ เหมือนฤทธิ์ ,อร-พัศชนันท์ เจียจิรโชติ และสตางค์-ตรษา ปรีชาตั้งกิจ\n",
      "\n",
      "\n",
      "\n",
      "\n",
      "\n",
      "\n",
      "\n",
      "\n",
      "\n",
      "\n",
      "var ads_556151; googletag.cmd.push(function() {var mapping_556151 = googletag.sizeMapping().addSize([728, 300], [[300, 250], [336, 280]]).addSize([0,0], [300, 250]).build(); ads_556151 = googletag.defineSlot('/21622890900/TH_dailynews.co.th_res_article_mid3_300x250//336x280', [[300, 250], [336, 280]], 'div-gpt-ad-1597658361960-0').defineSizeMapping(mapping_556151).setCollapseEmptyDiv(true).addService(googletag.pubads()); });googletag.cmd.push(function() {googletag.pubads().refresh([ads_556151]);});\n",
      "\n",
      "\n",
      "\n",
      "\n",
      "\n",
      "\n",
      "\n",
      " \n",
      "และการแสดงถัดมา BNK48 Team BIll 2nd Stage“ Saish นน Bell ga Naru” ประกอบไปด้วยสมาชิก BNK48 Team Blll จำนวน 16 คนคือ ปัญ-ปัญสิกรณ์ ติยะกร (Captain) ,เจนนิษฐ์-เจนนิษฐ์-โอ่ประเสริฐ (Vice-Captain) ,เฌอปราง-เฌอปราง อารีย์กุล ,ฝ้าย-สุมิตรา ดวงแก้ว ,เจน-กุลจิราณัฐ อินทรศิลป์ ,จิ๊บ-สุชญา แสนโคต ,แก้ว-ณัฐรุจา ชุติวรรณโสภณ ,เคท-กรภัทร์ นิลประภา ,ก่อน-วฑูศิริ ภูวปัญญาสิริ ,มินมิน-รชยา ทัพพ์คุณานนต์ ,มิโอริ-มิโอริ โอคุโบะ ,มายยู-กวิสรา สิงห์ปลอด ,นิกี้-วรินท์รัตน์ ยลประสงค์ ,เนย-กานต์ธีรา วัชรทัศนกุล ,แพนด้า-จิดาภา แช่มช้อย ,วี-วีรยา จาง\n",
      "\n",
      "\n",
      " \n",
      "ทั้งนี้ ภายในงานดังกล่าว ยังได้มีการเปิดตัว BNK48 รุ่นที่3 ทั้งหมด 19 คน ที่จะมามอบความสุนกเพิ่มเติมในเธียร์เตอร์ให้แฟนๆได้ชมกันอีกด้วย...\n"
     ]
    }
   ],
   "source": [
    "i_e_scrape.delete_many({})\n",
    "\n",
    "reqTo = []\n",
    "\n",
    "for c,each in enumerate(df_entertain.URL,0):\n",
    "    driver = webdriver.Chrome(executable_path='selenium/chromedriver.exe')\n",
    "    driver.get(each)\n",
    "    try:\n",
    "        myElem = WebDriverWait(driver,4).until(EC.visibility_of_element_located((By.CLASS_NAME, 'reader')))\n",
    "        content=driver.page_source\n",
    "        soup=BeautifulSoup(content,'lxml')\n",
    "        div = soup.find(\"div\", class_=lambda value: value and value==\"share-box-mobile\")\n",
    "        h2 = div.find(\"h2\", class_=lambda value: value and value==\"heading\")\n",
    "        share_a_fb = div.find(\"a\", class_=lambda value: value and value==\"share-btn fb\", href=True)\n",
    "        share_a_tw = div.find(\"a\", class_=lambda value: value and value==\"share-btn tw\", href=True)\n",
    "        share_a_gp = div.find(\"a\", class_=lambda value: value and value==\"share-btn gp\", href=True)\n",
    "        div2 = soup.find(\"div\", class_=lambda value: value and value==\"article-subbox\")\n",
    "        view_div = div2.find(\"div\", class_=lambda value: value and value==\"upper\")\n",
    "        div3 = soup.find(\"div\", class_=lambda value: value and value==\"entry textbox content-all\")\n",
    "        total_share = h2.text.split()[2]\n",
    "        share_fb = share_a_fb.text.strip()\n",
    "        share_tw = share_a_tw.text.strip()\n",
    "        share_gp = share_a_gp.text.strip()\n",
    "        view_ = int(view_div.text.strip().split()[1].replace(',',''))\n",
    "        text_  = div3.text.strip()\n",
    "        print('URL',c+1,'Element',each,view_,convertKtoNum(total_share),share_fb,share_tw,share_gp,text_)\n",
    "        process_data = create_ListofDict(each,view_,convertKtoNum(total_share),\n",
    "                                         convertKtoNum(share_fb),convertKtoNum(share_tw),convertKtoNum(share_gp),text_)\n",
    "        i_e_scrape.insert_one(process_data)\n",
    "    except TimeoutException:\n",
    "        print('Request time out at row',c)\n",
    "        reqTo.append(c)\n",
    "    driver.quit()\n",
    "    clear_output(wait=True)"
   ]
  },
  {
   "cell_type": "code",
   "execution_count": null,
   "metadata": {},
   "outputs": [],
   "source": []
  }
 ],
 "metadata": {
  "kernelspec": {
   "display_name": "Python 3",
   "language": "python",
   "name": "python3"
  },
  "language_info": {
   "codemirror_mode": {
    "name": "ipython",
    "version": 3
   },
   "file_extension": ".py",
   "mimetype": "text/x-python",
   "name": "python",
   "nbconvert_exporter": "python",
   "pygments_lexer": "ipython3",
   "version": "3.7.3"
  }
 },
 "nbformat": 4,
 "nbformat_minor": 2
}
