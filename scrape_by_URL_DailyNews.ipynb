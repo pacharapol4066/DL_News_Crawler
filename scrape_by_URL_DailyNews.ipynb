{
 "cells": [
  {
   "cell_type": "code",
   "execution_count": 1,
   "metadata": {},
   "outputs": [],
   "source": [
    "from bs4 import BeautifulSoup\n",
    "from urllib.request import urlopen\n",
    "import time\n",
    "from datetime import datetime\n",
    "from datetime import timedelta\n",
    "import pandas as pd\n",
    "import json\n",
    "import pymongo\n",
    "from selenium import webdriver\n",
    "from selenium.webdriver.support.ui import WebDriverWait\n",
    "from selenium.webdriver.support import expected_conditions as EC\n",
    "from selenium.webdriver.common.by import By\n",
    "from selenium.common.exceptions import TimeoutException\n",
    "from IPython.display import clear_output"
   ]
  },
  {
   "cell_type": "code",
   "execution_count": 2,
   "metadata": {},
   "outputs": [],
   "source": [
    "def create_ListofDict(url,view,totalshr,shrFb,shrTw,shrGp,txt):\n",
    "    info = {\n",
    "            \"URL\":url,\n",
    "            \"totalView\": view,\n",
    "            \"totalShare\": totalshr,\n",
    "            \"share_fb\": shrFb,\n",
    "            \"share_tw\": shrTw,\n",
    "            \"share_gp\": shrGp,\n",
    "            \"text\": txt\n",
    "    }\n",
    "    return info"
   ]
  },
  {
   "cell_type": "code",
   "execution_count": 3,
   "metadata": {},
   "outputs": [],
   "source": [
    "def create_ListofDict_InsertMany(df):\n",
    "    listofdict = []\n",
    "    for c,lx in enumerate(df.URL,0):\n",
    "        info = {\n",
    "            \"URL\":lx,\n",
    "            \"totalView\": int(df.totalView[c]),\n",
    "            \"totalShare\": int(df.totalShare[c]),\n",
    "            \"share_fb\": int(df.share_fb[c]),\n",
    "            \"share_tw\": int(df.share_tw[c]),\n",
    "            \"share_gp\": int(df.share_gp[c]),\n",
    "            \"text\": df.text[c]\n",
    "        }\n",
    "        listofdict.append(info)\n",
    "    return listofdict"
   ]
  },
  {
   "cell_type": "code",
   "execution_count": 4,
   "metadata": {},
   "outputs": [],
   "source": [
    "def convertKtoNum(s):\n",
    "    if  'K' in s:\n",
    "        ss = s.split('K')\n",
    "        n = float(ss[0])*1000\n",
    "    else:\n",
    "        n = int(s)\n",
    "    return n"
   ]
  },
  {
   "cell_type": "code",
   "execution_count": 5,
   "metadata": {},
   "outputs": [],
   "source": [
    "# Connect MongoDB\n",
    "myclient = pymongo.MongoClient(\"mongodb://localhost:27017/\")\n",
    "mydb = myclient[\"BADS7101\"]\n",
    "q_c_urlList = mydb[\"URL_LIST_CRIME\"]\n",
    "q_p_urlList = mydb[\"URL_LIST_POLITIC_REMDUP\"]\n",
    "q_e_urlList = mydb[\"URL_LIST_ENTER\"]\n",
    "q_p2_urlList = mydb[\"POLITIC_NEWS_U\"]\n",
    "\n",
    "i_c_scrape = mydb[\"CRIME_NEWS\"]\n",
    "i_p_scrape = mydb[\"POLITIC_NEWS_U\"]\n",
    "i_e_scrape = mydb[\"ENTERTAIN_NEWS\"]"
   ]
  },
  {
   "cell_type": "markdown",
   "metadata": {},
   "source": [
    "### ข่าวอาชญากรรม"
   ]
  },
  {
   "cell_type": "code",
   "execution_count": 6,
   "metadata": {},
   "outputs": [],
   "source": [
    "cursor1 = q_c_urlList.find()"
   ]
  },
  {
   "cell_type": "code",
   "execution_count": 7,
   "metadata": {},
   "outputs": [
    {
     "data": {
      "text/html": [
       "<div>\n",
       "<style scoped>\n",
       "    .dataframe tbody tr th:only-of-type {\n",
       "        vertical-align: middle;\n",
       "    }\n",
       "\n",
       "    .dataframe tbody tr th {\n",
       "        vertical-align: top;\n",
       "    }\n",
       "\n",
       "    .dataframe thead th {\n",
       "        text-align: right;\n",
       "    }\n",
       "</style>\n",
       "<table border=\"1\" class=\"dataframe\">\n",
       "  <thead>\n",
       "    <tr style=\"text-align: right;\">\n",
       "      <th></th>\n",
       "      <th>_id</th>\n",
       "      <th>timestamp</th>\n",
       "      <th>URL</th>\n",
       "      <th>headline</th>\n",
       "      <th>newsdate</th>\n",
       "    </tr>\n",
       "  </thead>\n",
       "  <tbody>\n",
       "    <tr>\n",
       "      <th>1875</th>\n",
       "      <td>5fa6caf852e52341a96beb2b</td>\n",
       "      <td>2020-11-07 23:27:27.954</td>\n",
       "      <td>https://www.dailynews.co.th/crime/777584</td>\n",
       "      <td>จับโจ๋ลวงด.ญ.14สติไม่ดีข่มขืน อ้างทักแชทมาหาเร...</td>\n",
       "      <td>2020-06-01 12:10:00</td>\n",
       "    </tr>\n",
       "    <tr>\n",
       "      <th>1876</th>\n",
       "      <td>5fa6caf852e52341a96beb2c</td>\n",
       "      <td>2020-11-07 23:27:27.954</td>\n",
       "      <td>https://www.dailynews.co.th/crime/777568</td>\n",
       "      <td>เด้ง8ตร.สภ.หนองจอกเซ่นคลิป เรียกเงินต่อรองก่อน...</td>\n",
       "      <td>2020-06-01 11:18:00</td>\n",
       "    </tr>\n",
       "    <tr>\n",
       "      <th>1877</th>\n",
       "      <td>5fa6caf852e52341a96beb2d</td>\n",
       "      <td>2020-11-07 23:27:27.954</td>\n",
       "      <td>https://www.dailynews.co.th/crime/777532</td>\n",
       "      <td>รักผ้าขาวม้ามาก'ครูหื่น'ยื่น5แสน ได้ประกัน-คลุ...</td>\n",
       "      <td>2020-05-31 22:59:00</td>\n",
       "    </tr>\n",
       "    <tr>\n",
       "      <th>1878</th>\n",
       "      <td>5fa6caf852e52341a96beb2e</td>\n",
       "      <td>2020-11-07 23:27:27.954</td>\n",
       "      <td>https://www.dailynews.co.th/crime/777515</td>\n",
       "      <td>หนุ่มขับรถขนเครื่องบินทุกข์ใจ นายสั่งแต่รับกรร...</td>\n",
       "      <td>2020-05-31 19:00:00</td>\n",
       "    </tr>\n",
       "    <tr>\n",
       "      <th>1879</th>\n",
       "      <td>5fa6caf852e52341a96beb2f</td>\n",
       "      <td>2020-11-07 23:27:27.954</td>\n",
       "      <td>https://www.dailynews.co.th/crime/777503</td>\n",
       "      <td>ช็อกแค่พลาดบอกรหัสOTP จากมีเงิน4แสน-เหลือ70บาท</td>\n",
       "      <td>2020-05-31 17:11:00</td>\n",
       "    </tr>\n",
       "  </tbody>\n",
       "</table>\n",
       "</div>"
      ],
      "text/plain": [
       "                           _id               timestamp  \\\n",
       "1875  5fa6caf852e52341a96beb2b 2020-11-07 23:27:27.954   \n",
       "1876  5fa6caf852e52341a96beb2c 2020-11-07 23:27:27.954   \n",
       "1877  5fa6caf852e52341a96beb2d 2020-11-07 23:27:27.954   \n",
       "1878  5fa6caf852e52341a96beb2e 2020-11-07 23:27:27.954   \n",
       "1879  5fa6caf852e52341a96beb2f 2020-11-07 23:27:27.954   \n",
       "\n",
       "                                           URL  \\\n",
       "1875  https://www.dailynews.co.th/crime/777584   \n",
       "1876  https://www.dailynews.co.th/crime/777568   \n",
       "1877  https://www.dailynews.co.th/crime/777532   \n",
       "1878  https://www.dailynews.co.th/crime/777515   \n",
       "1879  https://www.dailynews.co.th/crime/777503   \n",
       "\n",
       "                                               headline            newsdate  \n",
       "1875  จับโจ๋ลวงด.ญ.14สติไม่ดีข่มขืน อ้างทักแชทมาหาเร... 2020-06-01 12:10:00  \n",
       "1876  เด้ง8ตร.สภ.หนองจอกเซ่นคลิป เรียกเงินต่อรองก่อน... 2020-06-01 11:18:00  \n",
       "1877  รักผ้าขาวม้ามาก'ครูหื่น'ยื่น5แสน ได้ประกัน-คลุ... 2020-05-31 22:59:00  \n",
       "1878  หนุ่มขับรถขนเครื่องบินทุกข์ใจ นายสั่งแต่รับกรร... 2020-05-31 19:00:00  \n",
       "1879     ช็อกแค่พลาดบอกรหัสOTP จากมีเงิน4แสน-เหลือ70บาท 2020-05-31 17:11:00  "
      ]
     },
     "execution_count": 7,
     "metadata": {},
     "output_type": "execute_result"
    }
   ],
   "source": [
    "df_crime = pd.DataFrame(cursor1)\n",
    "df_crime.tail()"
   ]
  },
  {
   "cell_type": "code",
   "execution_count": 8,
   "metadata": {},
   "outputs": [
    {
     "name": "stdout",
     "output_type": "stream",
     "text": [
      "ตรวจสอบวันแรกและสุดท้าย ก่อนตัด scope 3 เดือน (90 วัน)\n",
      "Min time: 2020-05-31 17:11:00\n",
      "Max time 2020-11-07 16:20:00\n",
      "Min filter time 2020-08-09 16:20:00\n"
     ]
    }
   ],
   "source": [
    "print('ตรวจสอบวันแรกและสุดท้าย ก่อนตัด scope 3 เดือน (90 วัน)')\n",
    "g = datetime.strptime(str(max(df_crime.newsdate)), '%Y-%m-%d %H:%M:%S')\n",
    "mts = timedelta(days=90)\n",
    "print('Min time:',min(df_crime.newsdate))\n",
    "print('Max time',max(df_crime.newsdate))\n",
    "print('Min filter time',g-mts)"
   ]
  },
  {
   "cell_type": "code",
   "execution_count": 9,
   "metadata": {},
   "outputs": [
    {
     "data": {
      "text/html": [
       "<div>\n",
       "<style scoped>\n",
       "    .dataframe tbody tr th:only-of-type {\n",
       "        vertical-align: middle;\n",
       "    }\n",
       "\n",
       "    .dataframe tbody tr th {\n",
       "        vertical-align: top;\n",
       "    }\n",
       "\n",
       "    .dataframe thead th {\n",
       "        text-align: right;\n",
       "    }\n",
       "</style>\n",
       "<table border=\"1\" class=\"dataframe\">\n",
       "  <thead>\n",
       "    <tr style=\"text-align: right;\">\n",
       "      <th></th>\n",
       "      <th>_id</th>\n",
       "      <th>timestamp</th>\n",
       "      <th>URL</th>\n",
       "      <th>headline</th>\n",
       "      <th>newsdate</th>\n",
       "    </tr>\n",
       "  </thead>\n",
       "  <tbody>\n",
       "    <tr>\n",
       "      <th>0</th>\n",
       "      <td>5fa6c15052e52341a96be3d8</td>\n",
       "      <td>2020-11-07 22:46:16.338</td>\n",
       "      <td>https://www.dailynews.co.th/crime/805599</td>\n",
       "      <td>ตร.จัดเต็มรับมือม็อบ! ทุ่ม316ล้านซื้ออุปกรณ์คุ...</td>\n",
       "      <td>2020-11-07 16:20:00</td>\n",
       "    </tr>\n",
       "    <tr>\n",
       "      <th>1</th>\n",
       "      <td>5fa6c15052e52341a96be3d9</td>\n",
       "      <td>2020-11-07 22:46:16.338</td>\n",
       "      <td>https://www.dailynews.co.th/crime/805562</td>\n",
       "      <td>220ศาลทั่วประเทศพร้อมแล้ว จัดไกล่เกลี่ยก่อนฟ้อง</td>\n",
       "      <td>2020-11-07 12:59:00</td>\n",
       "    </tr>\n",
       "    <tr>\n",
       "      <th>2</th>\n",
       "      <td>5fa6c15052e52341a96be3da</td>\n",
       "      <td>2020-11-07 22:46:16.338</td>\n",
       "      <td>https://www.dailynews.co.th/crime/805560</td>\n",
       "      <td>แจงไม่ห้ามตร.เล่นโซเชียล แต่ใช้ให้ถูกและระมัดร...</td>\n",
       "      <td>2020-11-07 12:49:00</td>\n",
       "    </tr>\n",
       "    <tr>\n",
       "      <th>3</th>\n",
       "      <td>5fa6c15052e52341a96be3db</td>\n",
       "      <td>2020-11-07 22:46:16.338</td>\n",
       "      <td>https://www.dailynews.co.th/crime/805547</td>\n",
       "      <td>ไว้ใจลงทุนให้เลี้ยงเป็ดนับพัน แสบจับขายเกลี้ยง...</td>\n",
       "      <td>2020-11-07 12:05:00</td>\n",
       "    </tr>\n",
       "    <tr>\n",
       "      <th>4</th>\n",
       "      <td>5fa6c15052e52341a96be3dc</td>\n",
       "      <td>2020-11-07 22:46:16.338</td>\n",
       "      <td>https://www.dailynews.co.th/crime/805545</td>\n",
       "      <td>รวบหนุ่มเมืองคอนหนีคดี12ปี หลอก2ด.ญ.พี่น้องขยี...</td>\n",
       "      <td>2020-11-07 11:56:00</td>\n",
       "    </tr>\n",
       "  </tbody>\n",
       "</table>\n",
       "</div>"
      ],
      "text/plain": [
       "                        _id               timestamp  \\\n",
       "0  5fa6c15052e52341a96be3d8 2020-11-07 22:46:16.338   \n",
       "1  5fa6c15052e52341a96be3d9 2020-11-07 22:46:16.338   \n",
       "2  5fa6c15052e52341a96be3da 2020-11-07 22:46:16.338   \n",
       "3  5fa6c15052e52341a96be3db 2020-11-07 22:46:16.338   \n",
       "4  5fa6c15052e52341a96be3dc 2020-11-07 22:46:16.338   \n",
       "\n",
       "                                        URL  \\\n",
       "0  https://www.dailynews.co.th/crime/805599   \n",
       "1  https://www.dailynews.co.th/crime/805562   \n",
       "2  https://www.dailynews.co.th/crime/805560   \n",
       "3  https://www.dailynews.co.th/crime/805547   \n",
       "4  https://www.dailynews.co.th/crime/805545   \n",
       "\n",
       "                                            headline            newsdate  \n",
       "0  ตร.จัดเต็มรับมือม็อบ! ทุ่ม316ล้านซื้ออุปกรณ์คุ... 2020-11-07 16:20:00  \n",
       "1    220ศาลทั่วประเทศพร้อมแล้ว จัดไกล่เกลี่ยก่อนฟ้อง 2020-11-07 12:59:00  \n",
       "2  แจงไม่ห้ามตร.เล่นโซเชียล แต่ใช้ให้ถูกและระมัดร... 2020-11-07 12:49:00  \n",
       "3  ไว้ใจลงทุนให้เลี้ยงเป็ดนับพัน แสบจับขายเกลี้ยง... 2020-11-07 12:05:00  \n",
       "4  รวบหนุ่มเมืองคอนหนีคดี12ปี หลอก2ด.ญ.พี่น้องขยี... 2020-11-07 11:56:00  "
      ]
     },
     "execution_count": 9,
     "metadata": {},
     "output_type": "execute_result"
    }
   ],
   "source": [
    "df_crime = df_crime[df_crime.newsdate >= g-mts]\n",
    "df_crime.head()"
   ]
  },
  {
   "cell_type": "markdown",
   "metadata": {},
   "source": [
    "df_crime.URL[0:100]  0-99<br>\n",
    "df_crime.URL[100:300] 100-299"
   ]
  },
  {
   "cell_type": "code",
   "execution_count": null,
   "metadata": {},
   "outputs": [],
   "source": [
    "i_c_scrape.delete_many({})\n",
    "\n",
    "#df_crime.URL[0:2]\n",
    "\n",
    "for c,each in enumerate(df_crime.URL,0):\n",
    "    print('URL',c+1)\n",
    "    driver = webdriver.Chrome(executable_path='selenium/chromedriver.exe')\n",
    "    driver.get(each)\n",
    "    try:\n",
    "        myElem = WebDriverWait(driver, 3).until(EC.visibility_of_element_located((By.CLASS_NAME, 'reader')))\n",
    "        content=driver.page_source\n",
    "        soup=BeautifulSoup(content,'lxml')\n",
    "        div = soup.find(\"div\", class_=lambda value: value and value==\"share-box-mobile\")\n",
    "        h2 = div.find(\"h2\", class_=lambda value: value and value==\"heading\")\n",
    "        share_a_fb = div.find(\"a\", class_=lambda value: value and value==\"share-btn fb\", href=True)\n",
    "        share_a_tw = div.find(\"a\", class_=lambda value: value and value==\"share-btn tw\", href=True)\n",
    "        share_a_gp = div.find(\"a\", class_=lambda value: value and value==\"share-btn gp\", href=True)\n",
    "        div2 = soup.find(\"div\", class_=lambda value: value and value==\"article-subbox\")\n",
    "        view_div = div2.find(\"div\", class_=lambda value: value and value==\"upper\")\n",
    "        div3 = soup.find(\"div\", class_=lambda value: value and value==\"entry textbox content-all\")\n",
    "        total_share = h2.text.split()[2]\n",
    "        share_fb = share_a_fb.text.strip()\n",
    "        share_tw = share_a_tw.text.strip()\n",
    "        share_gp = share_a_gp.text.strip()\n",
    "        view_ = int(view_div.text.strip().split()[1].replace(',',''))\n",
    "        text_  = div3.text.strip()\n",
    "        process_data = create_ListofDict(each,view_,int(total_share),int(share_fb),int(share_tw),int(share_gp),text_)\n",
    "        i_c_scrape.insert_one(process_data)\n",
    "    except TimeoutException:\n",
    "        print('Request time out')\n",
    "    driver.quit()\n",
    "    clear_output(wait=True)"
   ]
  },
  {
   "cell_type": "markdown",
   "metadata": {},
   "source": [
    "### ข่าวการเมือง"
   ]
  },
  {
   "cell_type": "code",
   "execution_count": 80,
   "metadata": {},
   "outputs": [],
   "source": [
    "cursor2 = q_p_urlList.find()\n",
    "df_politic_url = pd.DataFrame(cursor2)"
   ]
  },
  {
   "cell_type": "code",
   "execution_count": 81,
   "metadata": {},
   "outputs": [
    {
     "name": "stdout",
     "output_type": "stream",
     "text": [
      "ตรวจสอบวันแรกและสุดท้าย ก่อนตัด scope 3 เดือน (90 วัน)\n",
      "Min time: 2020-07-01 09:54:00\n",
      "Max time 2020-11-07 22:15:00\n"
     ]
    }
   ],
   "source": [
    "print('ตรวจสอบวันแรกและสุดท้าย ก่อนตัด scope 3 เดือน (90 วัน)')\n",
    "#g = datetime.strptime(str(min(df_politic_url.newsdate)), '%Y-%m-%d %H:%M:%S')\n",
    "#mts = timedelta(hours=6.8)\n",
    "#print('Min filter',g+mts)\n",
    "print('Min time:',min(df_politic_url.newsdate))\n",
    "print('Max time',max(df_politic_url.newsdate))"
   ]
  },
  {
   "cell_type": "code",
   "execution_count": 82,
   "metadata": {},
   "outputs": [],
   "source": [
    "df_politic_url = df_politic_url[(df_politic_url.newsdate >= '2020-07-01 00:00:00')&(df_politic_url.newsdate <= '2020-08-10 00:00:00')]\n",
    "df_politic_url.drop_duplicates(subset=['URL'], inplace=True, ignore_index=True)\n",
    "\n",
    "cursorp2 = q_p2_urlList.find()\n",
    "df_politic_exDetail = pd.DataFrame(cursorp2)\n",
    "df_politic_exDetail.drop_duplicates(subset=['URL'], inplace=True, ignore_index=True)\n",
    "\n",
    "df_politic_j = pd.merge(df_politic_url, df_politic_exDetail, how=\"left\",on=['URL'])\n",
    "df_politic_j = df_politic_j[df_politic_j._id_y.isnull()]"
   ]
  },
  {
   "cell_type": "code",
   "execution_count": 83,
   "metadata": {},
   "outputs": [
    {
     "data": {
      "text/html": [
       "<div>\n",
       "<style scoped>\n",
       "    .dataframe tbody tr th:only-of-type {\n",
       "        vertical-align: middle;\n",
       "    }\n",
       "\n",
       "    .dataframe tbody tr th {\n",
       "        vertical-align: top;\n",
       "    }\n",
       "\n",
       "    .dataframe thead th {\n",
       "        text-align: right;\n",
       "    }\n",
       "</style>\n",
       "<table border=\"1\" class=\"dataframe\">\n",
       "  <thead>\n",
       "    <tr style=\"text-align: right;\">\n",
       "      <th></th>\n",
       "      <th>_id_x</th>\n",
       "      <th>timestamp</th>\n",
       "      <th>URL</th>\n",
       "      <th>headline</th>\n",
       "      <th>newsdate</th>\n",
       "      <th>_id_y</th>\n",
       "      <th>totalView</th>\n",
       "      <th>totalShare</th>\n",
       "      <th>share_fb</th>\n",
       "      <th>share_tw</th>\n",
       "      <th>share_gp</th>\n",
       "      <th>text</th>\n",
       "    </tr>\n",
       "  </thead>\n",
       "  <tbody>\n",
       "    <tr>\n",
       "      <th>1518</th>\n",
       "      <td>5fb01e5f157004571de14365</td>\n",
       "      <td>2020-11-09 18:05:03.083</td>\n",
       "      <td>https://www.dailynews.co.th/politics/788738</td>\n",
       "      <td>เตือน!คนรุ่นใหม่ลุกฮือสู้เผด็จการ ล่า5หมื่นชื่...</td>\n",
       "      <td>2020-08-07 15:21:00</td>\n",
       "      <td>NaN</td>\n",
       "      <td>NaN</td>\n",
       "      <td>NaN</td>\n",
       "      <td>NaN</td>\n",
       "      <td>NaN</td>\n",
       "      <td>NaN</td>\n",
       "      <td>NaN</td>\n",
       "    </tr>\n",
       "    <tr>\n",
       "      <th>1519</th>\n",
       "      <td>5fb01e5f157004571de14366</td>\n",
       "      <td>2020-11-09 18:05:03.083</td>\n",
       "      <td>https://www.dailynews.co.th/politics/788726</td>\n",
       "      <td>\"ชวน\"เตือนสังคมไทยอย่าเกรงใจจนทำสิ่งไม่ถูกต้อง</td>\n",
       "      <td>2020-08-07 15:16:00</td>\n",
       "      <td>NaN</td>\n",
       "      <td>NaN</td>\n",
       "      <td>NaN</td>\n",
       "      <td>NaN</td>\n",
       "      <td>NaN</td>\n",
       "      <td>NaN</td>\n",
       "      <td>NaN</td>\n",
       "    </tr>\n",
       "  </tbody>\n",
       "</table>\n",
       "</div>"
      ],
      "text/plain": [
       "                         _id_x               timestamp  \\\n",
       "1518  5fb01e5f157004571de14365 2020-11-09 18:05:03.083   \n",
       "1519  5fb01e5f157004571de14366 2020-11-09 18:05:03.083   \n",
       "\n",
       "                                              URL  \\\n",
       "1518  https://www.dailynews.co.th/politics/788738   \n",
       "1519  https://www.dailynews.co.th/politics/788726   \n",
       "\n",
       "                                               headline            newsdate  \\\n",
       "1518  เตือน!คนรุ่นใหม่ลุกฮือสู้เผด็จการ ล่า5หมื่นชื่... 2020-08-07 15:21:00   \n",
       "1519     \"ชวน\"เตือนสังคมไทยอย่าเกรงใจจนทำสิ่งไม่ถูกต้อง 2020-08-07 15:16:00   \n",
       "\n",
       "     _id_y  totalView  totalShare  share_fb  share_tw  share_gp text  \n",
       "1518   NaN        NaN         NaN       NaN       NaN       NaN  NaN  \n",
       "1519   NaN        NaN         NaN       NaN       NaN       NaN  NaN  "
      ]
     },
     "execution_count": 83,
     "metadata": {},
     "output_type": "execute_result"
    }
   ],
   "source": [
    "df_politic_j.tail(2)"
   ]
  },
  {
   "cell_type": "code",
   "execution_count": 84,
   "metadata": {},
   "outputs": [
    {
     "name": "stdout",
     "output_type": "stream",
     "text": [
      "Min time: 2020-08-07 15:16:00\n",
      "Max time 2020-08-08 17:06:00\n"
     ]
    }
   ],
   "source": [
    "print('Min time:',min(df_politic_j.newsdate))\n",
    "print('Max time',max(df_politic_j.newsdate))"
   ]
  },
  {
   "cell_type": "code",
   "execution_count": 85,
   "metadata": {},
   "outputs": [
    {
     "data": {
      "text/plain": [
       "(32, 12)"
      ]
     },
     "execution_count": 85,
     "metadata": {},
     "output_type": "execute_result"
    }
   ],
   "source": [
    "df_politic_j.shape"
   ]
  },
  {
   "cell_type": "code",
   "execution_count": 86,
   "metadata": {},
   "outputs": [
    {
     "name": "stdout",
     "output_type": "stream",
     "text": [
      "URL 32 Element https://www.dailynews.co.th/politics/788726 1382 15 8 3 4 เมื่อวันที่ 7 ส.ค.  ที่สำนักงานคณะกรรมการป้องกันและปราบปรามการทุจริตแห่งชาติ(ป.ป.ช.) ในงานสัมมนาสาธารณะ หลักสูตรนักบริหารยุทธศาสตร์การป้องกันและปรับปรามการทุจริตรระดับสูง(นยปส.รุ่น11) นายชวน หลีกภัย ประธานรัฐสภา ปาฐกถาพิเศษเรื่อง “คุณธรรมโปร่งใส ยุค 4.0” ตอนหนึ่งว่า ธรรมาภิบาลภาคปฏิบัติ 6 ข้อ ซึ่งเกิดขึ้นหลังจากกรณีวิกฤติต้มยำกุ้ง ด้วยวิกฤติเหล่านั้นเอง ทำให้ต้องมีการศึกษาเรื่องธรรมาภิบาลขึ้นในไทยอย่างจริงจัง โดย 1 ปีหลังตนเป็นนายกรัฐมนตรี ได้มอบหมายให้ นายอภิสิทธิ์ เวชชาชีวะ และทีมงานรับผิดชอบศึกษาเรื่องนี้ เคาะออกมาเป็นนโยบาย โดยใช้คำว่า การบริหารจัดการที่ดีของภาครัฐและเอกชน ต่อมาคือคำว่าธรรมาภิบาล เพื่อป้องวิกฤติต่าง ๆ ไม่ให้เกิดขึ้นอีก โดยมีประเด็นสำคัญเช่น หลักนิติธรรมสำคัญที่สุด\n",
      "\n",
      "นอกจากนั้นยังมีหลักกฎหมาย การมีส่วนร่วมประชาชน หลักความรับผิดชอบต่อสังคม แต่ตนเห็นว่าสำหรับสังคมไทยต้องเพิ่มเรื่องความไม่เกรงใจต่อสิ่งที่ไม่ถูกต้องอีกข้อหนึ่ง เพราะมีข้าราชการดีๆ  หรือนักการเมืองดีๆ หลายคนต้องติดคุก เพราะมาจากความเกรงใจ ไปแก้ระเบียบกฎเกณฑ์ต่าง ๆ เพื่อช่วยเหลือนักการเมืองให้ได้ประโยชน์ แต่ทำให้ประเทศชาติเสียหาย หรือทนายความบางคนเกรงใจภรรยาที่เป็น ส.ส.ในพรรคการเมืองหนึ่ง แล้วไปวิ่งเต้นคดียุบพรรคบางพรรคจนต้องติดคุก เป็นต้น อย่างไรก็ตามความเกรงใจไม่สิ่งเลวร้าย แต่ต้องเกรงใจให้ถูกเรื่อง โดยหลักธรรมาภิบาลเชื่อว่าทุกคนจำได้หมด แต่ปัญหาคือในภาคปฏิบัติที่คนไม่ยอมทำตาม.\n"
     ]
    }
   ],
   "source": [
    "#i_p_scrape.delete_many({})\n",
    "\n",
    "reqTo = []\n",
    "\n",
    "for c,each in enumerate(df_politic_j.URL,0):\n",
    "    driver = webdriver.Chrome(executable_path='selenium/chromedriver.exe')\n",
    "    driver.get(each)\n",
    "    try:\n",
    "        myElem = WebDriverWait(driver,7).until(EC.presence_of_element_located((By.CLASS_NAME, 'reader')))\n",
    "        myElem = WebDriverWait(driver,5).until(EC.presence_of_element_located((By.ID, 'span_reader_ajax')))\n",
    "        time.sleep(5)\n",
    "        content=driver.page_source\n",
    "        soup=BeautifulSoup(content,'lxml')\n",
    "        div = soup.find(\"div\", class_=lambda value: value and value==\"share-box-mobile\")\n",
    "        h2 = div.find(\"h2\", class_=lambda value: value and value==\"heading\")\n",
    "        share_a_fb = div.find(\"a\", class_=lambda value: value and value==\"share-btn fb\", href=True)\n",
    "        share_a_tw = div.find(\"a\", class_=lambda value: value and value==\"share-btn tw\", href=True)\n",
    "        share_a_gp = div.find(\"a\", class_=lambda value: value and value==\"share-btn gp\", href=True)\n",
    "        div2 = soup.find(\"div\", class_=lambda value: value and value==\"article-subbox\")\n",
    "        view_div = div2.find(\"div\", class_=lambda value: value and value==\"upper\")\n",
    "        div3 = soup.find(\"div\", class_=lambda value: value and value==\"entry textbox content-all\")\n",
    "        total_share = h2.text.split()[2]\n",
    "        share_fb = share_a_fb.text.strip()\n",
    "        share_tw = share_a_tw.text.strip()\n",
    "        share_gp = share_a_gp.text.strip()\n",
    "        view_ = int(view_div.text.strip().split()[1].replace(',',''))\n",
    "        text_  = div3.text.strip()\n",
    "        print('URL',c+1,'Element',each,view_,convertKtoNum(total_share),share_fb,share_tw,share_gp,text_)\n",
    "        process_data = create_ListofDict(each,view_,convertKtoNum(total_share),\n",
    "                                         convertKtoNum(share_fb),convertKtoNum(share_tw),convertKtoNum(share_gp),text_)\n",
    "        i_p_scrape.insert_one(process_data)\n",
    "    except TimeoutException:\n",
    "        print('Request time out at row',c)\n",
    "        reqTo.append(c)\n",
    "    driver.quit()\n",
    "    clear_output(wait=True)"
   ]
  },
  {
   "cell_type": "code",
   "execution_count": null,
   "metadata": {},
   "outputs": [],
   "source": [
    "reqTo"
   ]
  },
  {
   "cell_type": "code",
   "execution_count": null,
   "metadata": {},
   "outputs": [],
   "source": [
    "# Remove duplicate and reinsert POLITIC_NEWS_U แล้วลบ POLITIC_NEWS เดิมออก เพื่อประหยัดเนื้อที่\n",
    "#i_pp_scrape = mydb[\"POLITIC_NEWS_U\"]\n",
    "#cc = i_p_scrape.find()\n",
    "#df_p_u = pd.DataFrame(cc)\n",
    "#df_p_u = df_p_u.drop_duplicates(subset=['URL'],ignore_index=True)\n",
    "#df_p_u.shape"
   ]
  },
  {
   "cell_type": "code",
   "execution_count": null,
   "metadata": {},
   "outputs": [],
   "source": [
    "#df_p_u.tail()"
   ]
  },
  {
   "cell_type": "code",
   "execution_count": null,
   "metadata": {},
   "outputs": [],
   "source": [
    "#i_pp_scrape.delete_many({})\n",
    "#process_data = create_ListofDict_InsertMany(df_p_u)\n",
    "#i_pp_scrape.insert_many(process_data)"
   ]
  },
  {
   "cell_type": "markdown",
   "metadata": {},
   "source": [
    "### ข่าวบันเทิง"
   ]
  },
  {
   "cell_type": "code",
   "execution_count": null,
   "metadata": {},
   "outputs": [],
   "source": [
    "cursor3 = q_e_urlList.find()"
   ]
  },
  {
   "cell_type": "code",
   "execution_count": null,
   "metadata": {},
   "outputs": [],
   "source": [
    "df_entertain = pd.DataFrame(cursor3)\n",
    "df_entertain.tail(3)"
   ]
  },
  {
   "cell_type": "code",
   "execution_count": null,
   "metadata": {},
   "outputs": [],
   "source": [
    "print('ตรวจสอบวันแรกและสุดท้าย ก่อนตัด scope 3 เดือน (90 วัน)')\n",
    "g = datetime.strptime(str(max(df_entertain.newsdate)), '%Y-%m-%d %H:%M:%S')\n",
    "mts = timedelta(days=90)\n",
    "print('Min time:',min(df_entertain.newsdate))\n",
    "print('Max time',max(df_entertain.newsdate))\n",
    "print('Min filter time',g-mts)"
   ]
  },
  {
   "cell_type": "code",
   "execution_count": null,
   "metadata": {},
   "outputs": [],
   "source": [
    "df_entertain = df_entertain[df_entertain.newsdate >= g-mts]\n",
    "df_entertain.tail()"
   ]
  },
  {
   "cell_type": "code",
   "execution_count": null,
   "metadata": {},
   "outputs": [],
   "source": [
    "df_entertain.shape"
   ]
  },
  {
   "cell_type": "code",
   "execution_count": null,
   "metadata": {},
   "outputs": [],
   "source": [
    "i_e_scrape.delete_many({})\n",
    "\n",
    "reqTo = []\n",
    "\n",
    "for c,each in enumerate(df_entertain.URL,0):\n",
    "    driver = webdriver.Chrome(executable_path='selenium/chromedriver.exe')\n",
    "    driver.get(each)\n",
    "    try:\n",
    "        myElem = WebDriverWait(driver,4).until(EC.visibility_of_element_located((By.CLASS_NAME, 'reader')))\n",
    "        content=driver.page_source\n",
    "        soup=BeautifulSoup(content,'lxml')\n",
    "        div = soup.find(\"div\", class_=lambda value: value and value==\"share-box-mobile\")\n",
    "        h2 = div.find(\"h2\", class_=lambda value: value and value==\"heading\")\n",
    "        share_a_fb = div.find(\"a\", class_=lambda value: value and value==\"share-btn fb\", href=True)\n",
    "        share_a_tw = div.find(\"a\", class_=lambda value: value and value==\"share-btn tw\", href=True)\n",
    "        share_a_gp = div.find(\"a\", class_=lambda value: value and value==\"share-btn gp\", href=True)\n",
    "        div2 = soup.find(\"div\", class_=lambda value: value and value==\"article-subbox\")\n",
    "        view_div = div2.find(\"div\", class_=lambda value: value and value==\"upper\")\n",
    "        div3 = soup.find(\"div\", class_=lambda value: value and value==\"entry textbox content-all\")\n",
    "        total_share = h2.text.split()[2]\n",
    "        share_fb = share_a_fb.text.strip()\n",
    "        share_tw = share_a_tw.text.strip()\n",
    "        share_gp = share_a_gp.text.strip()\n",
    "        view_ = int(view_div.text.strip().split()[1].replace(',',''))\n",
    "        text_  = div3.text.strip()\n",
    "        print('URL',c+1,'Element',each,view_,convertKtoNum(total_share),share_fb,share_tw,share_gp,text_)\n",
    "        process_data = create_ListofDict(each,view_,convertKtoNum(total_share),\n",
    "                                         convertKtoNum(share_fb),convertKtoNum(share_tw),convertKtoNum(share_gp),text_)\n",
    "        i_e_scrape.insert_one(process_data)\n",
    "    except TimeoutException:\n",
    "        print('Request time out at row',c)\n",
    "        reqTo.append(c)\n",
    "    driver.quit()\n",
    "    clear_output(wait=True)"
   ]
  },
  {
   "cell_type": "code",
   "execution_count": null,
   "metadata": {},
   "outputs": [],
   "source": []
  }
 ],
 "metadata": {
  "kernelspec": {
   "display_name": "Python 3",
   "language": "python",
   "name": "python3"
  },
  "language_info": {
   "codemirror_mode": {
    "name": "ipython",
    "version": 3
   },
   "file_extension": ".py",
   "mimetype": "text/x-python",
   "name": "python",
   "nbconvert_exporter": "python",
   "pygments_lexer": "ipython3",
   "version": "3.7.3"
  }
 },
 "nbformat": 4,
 "nbformat_minor": 2
}
